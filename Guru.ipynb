{
 "cells": [
  {
   "cell_type": "code",
   "execution_count": 3,
   "metadata": {
    "collapsed": false
   },
   "outputs": [
    {
     "name": "stdout",
     "output_type": "stream",
     "text": [
      "hello\n"
     ]
    }
   ],
   "source": [
    "print 'hello'"
   ]
  },
  {
   "cell_type": "code",
   "execution_count": 5,
   "metadata": {
    "collapsed": false
   },
   "outputs": [
    {
     "name": "stdout",
     "output_type": "stream",
     "text": [
      "Greater than negative 1\n"
     ]
    }
   ],
   "source": [
    "a = 5; \n",
    "b = -6; \n",
    "if b/a < -2: \n",
    "    print (\"Less than negative 2\")\n",
    "else: \n",
    "    print (\"Greater than negative 2\")\n",
    "    \n"
   ]
  },
  {
   "cell_type": "code",
   "execution_count": 7,
   "metadata": {
    "collapsed": false
   },
   "outputs": [
    {
     "name": "stdout",
     "output_type": "stream",
     "text": [
      "[2, 4, 6, 8, 10, 12, 14, 16, 18, 20, 22, 24, 26, 28]\n"
     ]
    }
   ],
   "source": [
    "c = range(2,29,2) \n",
    "print c"
   ]
  },
  {
   "cell_type": "code",
   "execution_count": 8,
   "metadata": {
    "collapsed": false
   },
   "outputs": [
    {
     "name": "stdout",
     "output_type": "stream",
     "text": [
      "0\n",
      "1\n",
      "2\n",
      "3\n",
      "4\n"
     ]
    }
   ],
   "source": [
    "for i in range(5): \n",
    "    print i"
   ]
  },
  {
   "cell_type": "code",
   "execution_count": 11,
   "metadata": {
    "collapsed": false
   },
   "outputs": [
    {
     "name": "stdout",
     "output_type": "stream",
     "text": [
      "55\n"
     ]
    }
   ],
   "source": [
    "sum = 0 \n",
    "for i in range(1,11,1):  #Sums 1+2+...10\n",
    "    sum = sum + i \n",
    "print sum"
   ]
  },
  {
   "cell_type": "code",
   "execution_count": 1,
   "metadata": {
    "collapsed": false
   },
   "outputs": [
    {
     "name": "stdout",
     "output_type": "stream",
     "text": [
      "55\n"
     ]
    }
   ],
   "source": [
    "sum = 0  \n",
    "j = 0\n",
    "while j<11: \n",
    "    sum = sum + j   #While loop doing 1+2+..10\n",
    "    j = j + 1\n",
    "print sum\n"
   ]
  },
  {
   "cell_type": "code",
   "execution_count": 5,
   "metadata": {
    "collapsed": false
   },
   "outputs": [
    {
     "name": "stdout",
     "output_type": "stream",
     "text": [
      "3+''+b+'hello'\n",
      "14\n"
     ]
    }
   ],
   "source": [
    "expression_string= \"3+''+b+'hello'\"\n",
    "print expression_string\n",
    "print len(expression_string) "
   ]
  },
  {
   "cell_type": "code",
   "execution_count": 10,
   "metadata": {
    "collapsed": false
   },
   "outputs": [
    {
     "name": "stdout",
     "output_type": "stream",
     "text": [
      "3+''+b+'hello'\n"
     ]
    },
    {
     "data": {
      "text/plain": [
       "['3', \"''\", 'b', \"'hello'\"]"
      ]
     },
     "execution_count": 10,
     "metadata": {},
     "output_type": "execute_result"
    }
   ],
   "source": [
    "ex = expression_string[:]\n",
    "print ex \n",
    "ex.split('+')  #.something is a method that can be used to operate on a string"
   ]
  },
  {
   "cell_type": "code",
   "execution_count": 13,
   "metadata": {
    "collapsed": false
   },
   "outputs": [
    {
     "name": "stdout",
     "output_type": "stream",
     "text": [
      "why\n"
     ]
    }
   ],
   "source": [
    "ex2 = expression_string\n",
    "expression_string = 'why'\n",
    "print ex2"
   ]
  },
  {
   "cell_type": "code",
   "execution_count": 24,
   "metadata": {
    "collapsed": false
   },
   "outputs": [
    {
     "name": "stdout",
     "output_type": "stream",
     "text": [
      "c [4, 5, 6]\n",
      "d [4, 5, 6]\n",
      "<type 'int'>\n"
     ]
    }
   ],
   "source": [
    "a = [1,2,3]\n",
    "b = [4,5,6]\n",
    "c = b \n",
    "d = b[:]\n",
    "b = [7]\n",
    "print \"c\", c \n",
    "print \"d\", d \n",
    "print type(a[0])"
   ]
  },
  {
   "cell_type": "code",
   "execution_count": 23,
   "metadata": {
    "collapsed": false
   },
   "outputs": [
    {
     "name": "stdout",
     "output_type": "stream",
     "text": [
      "<type 'str'>\n"
     ]
    }
   ],
   "source": [
    "a = ['1','2','3']\n",
    "b = ['4','5','6']\n",
    "c = b \n",
    "d = b[:]\n",
    "b = ['7']\n",
    "print type(a[0])"
   ]
  },
  {
   "cell_type": "code",
   "execution_count": 34,
   "metadata": {
    "collapsed": false
   },
   "outputs": [
    {
     "name": "stdout",
     "output_type": "stream",
     "text": [
      "9 28\n"
     ]
    }
   ],
   "source": [
    "math_string = \"3+6*4/5+2\" \n",
    "math_string.find('+') \n",
    "math_string.replace('+','-') \n",
    "x = eval(math_string)  \n",
    "y = eval(math_string +'1') #concatenating 1 to the string, so it becomes 3+6*4/5+21\n",
    "print x, y\n"
   ]
  },
  {
   "cell_type": "code",
   "execution_count": 41,
   "metadata": {
    "collapsed": false
   },
   "outputs": [
    {
     "data": {
      "text/plain": [
       "'namibia majestic hello'"
      ]
     },
     "execution_count": 41,
     "metadata": {},
     "output_type": "execute_result"
    }
   ],
   "source": [
    "m = \"majestic\" \n",
    "n = \"namibia\"\n",
    "expression_string= \"n+' '+m+' hello'\"\n",
    "eval(expression_string)"
   ]
  },
  {
   "cell_type": "code",
   "execution_count": 44,
   "metadata": {
    "collapsed": false
   },
   "outputs": [
    {
     "name": "stdout",
     "output_type": "stream",
     "text": [
      "Enter a positive number: 6\n",
      "Factorial is:  720\n"
     ]
    }
   ],
   "source": [
    "#Factorial program \n",
    "factorial = 1\n",
    "number = input('Enter a positive number: ')\n",
    "for i in range(1,number+1): \n",
    "    factorial = factorial*i \n",
    "print \"Factorial is: \", factorial"
   ]
  },
  {
   "cell_type": "code",
   "execution_count": 46,
   "metadata": {
    "collapsed": false
   },
   "outputs": [
    {
     "name": "stdout",
     "output_type": "stream",
     "text": [
      "Enter a positive number: 3\n",
      "Factorial is:  6\n"
     ]
    }
   ],
   "source": [
    "#Writing a function for the same thing in iterative way\n",
    "def factorial(number):  \n",
    "    factorial = 1\n",
    "    for i in range(1,number+1): \n",
    "        factorial = factorial*i \n",
    "    return factorial\n",
    "    \n",
    "number = input('Enter a positive number: ') \n",
    "print \"Factorial is: \", factorial(number)"
   ]
  },
  {
   "cell_type": "code",
   "execution_count": 48,
   "metadata": {
    "collapsed": false
   },
   "outputs": [
    {
     "name": "stdout",
     "output_type": "stream",
     "text": [
      "Enter a positive number: 10\n",
      "Factorial is:  3628800\n"
     ]
    }
   ],
   "source": [
    "#Writing a function for the same thing in recursive way -- awesome!\n",
    "def factorial(number):  \n",
    "    if number <=1:    #always have a base case: thats where it stops\n",
    "        return 1\n",
    "    else: \n",
    "        return number*factorial(number-1)\n",
    "    \n",
    "number = input('Enter a positive number: ') \n",
    "print \"Factorial is: \", factorial(number)"
   ]
  },
  {
   "cell_type": "code",
   "execution_count": 56,
   "metadata": {
    "collapsed": false
   },
   "outputs": [
    {
     "name": "stdout",
     "output_type": "stream",
     "text": [
      "Enter n:  10\n",
      "Fibonacci number at nth place is:  55\n"
     ]
    }
   ],
   "source": [
    "#Fibonacci sequence for Nth number in iterative way\n",
    "def fibonacci(n):  \n",
    "    fib_prev_2 = 0 \n",
    "    fib_prev_1 = 1 \n",
    "    if n <= 1: \n",
    "        return 1\n",
    "    for i in range(2,n+1):\n",
    "        fib = fib_prev_2 + fib_prev_1 \n",
    "        fib_prev_2 = fib_prev_1 \n",
    "        fib_prev_1 = fib \n",
    "    return fib \n",
    "\n",
    "n = input('Enter n:  ') \n",
    "print \"Fibonacci number at nth place is: \", fibonacci(n)"
   ]
  },
  {
   "cell_type": "code",
   "execution_count": 63,
   "metadata": {
    "collapsed": false
   },
   "outputs": [
    {
     "name": "stdout",
     "output_type": "stream",
     "text": [
      "Enter n:  5\n",
      "Fibonacci number at nth place is:  5\n"
     ]
    }
   ],
   "source": [
    "#Fibonacci sequence for Nth number in recursive way\n",
    "def fibonacci(n):  \n",
    "    if n <= 1: \n",
    "        return n\n",
    "    else:\n",
    "        return fibonacci(n-2) + fibonacci(n-1)\n",
    "\n",
    "n = input('Enter n:  ') \n",
    "print \"Fibonacci number at nth place is: \", fibonacci(n)"
   ]
  },
  {
   "cell_type": "code",
   "execution_count": 2,
   "metadata": {
    "collapsed": false
   },
   "outputs": [
    {
     "name": "stdout",
     "output_type": "stream",
     "text": [
      "olleh\n"
     ]
    }
   ],
   "source": [
    "#String reversal\n",
    "test = 'hello'   \n",
    "string_rev = ''\n",
    "l = len('hello') \n",
    "\n",
    "for i in range (l): \n",
    "     string_rev = string_rev + test[l-i-1] \n",
    "\n",
    "print string_rev\n"
   ]
  },
  {
   "cell_type": "code",
   "execution_count": 3,
   "metadata": {
    "collapsed": false
   },
   "outputs": [
    {
     "name": "stdout",
     "output_type": "stream",
     "text": [
      "olleh\n"
     ]
    }
   ],
   "source": [
    "print test[::-1] "
   ]
  },
  {
   "cell_type": "code",
   "execution_count": 12,
   "metadata": {
    "collapsed": false
   },
   "outputs": [
    {
     "name": "stdout",
     "output_type": "stream",
     "text": [
      "[1, 3, 5, 6, 10, 49, 78]\n"
     ]
    }
   ],
   "source": [
    "def my_sort(a):  \n",
    "    for i in range(1,len(a)): \n",
    "        while i>0 and a[i] < a[i-1]: \n",
    "            temp = a[i-1] \n",
    "            a[i-1] = a[i] \n",
    "            a[i] = temp  \n",
    "            i = i-1  \n",
    "    return a \n",
    "        \n",
    "a = [5,6,3,10,78,1,49] \n",
    "# a.sort() \n",
    "print my_sort(a)"
   ]
  },
  {
   "cell_type": "code",
   "execution_count": 41,
   "metadata": {
    "collapsed": false
   },
   "outputs": [
    {
     "name": "stdout",
     "output_type": "stream",
     "text": [
      "Enter a number.1\n",
      "1\n",
      ".1\n",
      "0\n",
      "1\n",
      ".\n"
     ]
    }
   ],
   "source": [
    "#Palindrome  \n",
    "def isPalindrome(x):\n",
    "#         x = str(x)\n",
    "#         l = len(x)/2\n",
    "#         for i in range(l): \n",
    "          \n",
    "#             if x[i:]==x[-i:]: \n",
    "#                     return True \n",
    "#             else: \n",
    "#                     return False \n",
    "        x = str(x)\n",
    "        print x[2:]  \n",
    "        print x[-2:] \n",
    "        print x[:-2] \n",
    "        print x[-1] \n",
    "        print x[1] \n",
    "\n",
    "x = input(\"Enter a number\") \n",
    "isPalindrome(x)"
   ]
  },
  {
   "cell_type": "code",
   "execution_count": 56,
   "metadata": {
    "collapsed": false
   },
   "outputs": [
    {
     "data": {
      "text/plain": [
       "int"
      ]
     },
     "execution_count": 56,
     "metadata": {},
     "output_type": "execute_result"
    }
   ],
   "source": [
    "type(eval(\"123+1\")) "
   ]
  },
  {
   "cell_type": "code",
   "execution_count": 51,
   "metadata": {
    "collapsed": false
   },
   "outputs": [
    {
     "data": {
      "text/plain": [
       "True"
      ]
     },
     "execution_count": 51,
     "metadata": {},
     "output_type": "execute_result"
    }
   ],
   "source": [
    "string = \"4\"\n",
    "string.isdigit()"
   ]
  },
  {
   "cell_type": "code",
   "execution_count": 1,
   "metadata": {
    "collapsed": false
   },
   "outputs": [
    {
     "name": "stdout",
     "output_type": "stream",
     "text": [
      "Program started on:Sun Jul  3 18:39:22 2016\n"
     ]
    }
   ],
   "source": [
    "#Open a song after a certain amount of time\n",
    "import webbrowser\n",
    "import time\n",
    "\n",
    "i = 1 \n",
    "break_count = 2 \n",
    "print(\"Program started on:\") + time.ctime() \n",
    "while i <= break_count: \n",
    "    time.sleep(10)\n",
    "    webbrowser.open(\"https://www.youtube.com/watch?v=rMbATaj7Il8\") \n",
    "    i +=1 "
   ]
  },
  {
   "cell_type": "code",
   "execution_count": 7,
   "metadata": {
    "collapsed": false
   },
   "outputs": [
    {
     "name": "stdout",
     "output_type": "stream",
     "text": [
      "1\n"
     ]
    }
   ],
   "source": [
    "#Majority element\n",
    "nums = [1,1,1,1,1,3,4,5,2] \n",
    "n = len(nums)\n",
    "unique = sorted(set(nums)) \n",
    "for i in range(len(unique)): \n",
    "    if nums.count(unique[i]) >  n/2: \n",
    "        print unique[i] "
   ]
  },
  {
   "cell_type": "code",
   "execution_count": 10,
   "metadata": {
    "collapsed": false
   },
   "outputs": [
    {
     "name": "stdout",
     "output_type": "stream",
     "text": [
      "set([1])\n"
     ]
    }
   ],
   "source": [
    "nums = [1,1,1,1,1,3,4,5,2] \n",
    "nums2 = [1,1] \n",
    "print set(nums).intersection(nums2)"
   ]
  },
  {
   "cell_type": "code",
   "execution_count": 20,
   "metadata": {
    "collapsed": false
   },
   "outputs": [
    {
     "name": "stdout",
     "output_type": "stream",
     "text": [
      "Counter({1: 2, 3: 1, 4: 1})\n"
     ]
    }
   ],
   "source": [
    "import collections     \n",
    "nums1 = [1,1,1,3,4] \n",
    "nums2 = [1,1]\n",
    "ans = []\n",
    "nums1 = collections.Counter(nums1)\n",
    "nums1[1]-=1\n",
    "# for x in nums2:\n",
    "#             if x in nums1:\n",
    "#                 ans.append(x)\n",
    "#                 nums1[x] -= 1\n",
    "#                 if nums1[x] == 0:\n",
    "#                     del nums1[x]\n",
    "print nums1\n"
   ]
  },
  {
   "cell_type": "code",
   "execution_count": 1,
   "metadata": {
    "collapsed": false
   },
   "outputs": [
    {
     "name": "stdout",
     "output_type": "stream",
     "text": [
      "('Rocket altitude:', 0)\n",
      "Rocket altitude: 1\n",
      "('Rocket altitude:', 2)\n"
     ]
    }
   ],
   "source": [
    "class Rocket():\n",
    "    # Rocket simulates a rocket ship for a game,\n",
    "    #  or a physics simulation.\n",
    "    \n",
    "    def __init__(self):\n",
    "        # Each rocket has an (x,y) position.\n",
    "        self.x = 0\n",
    "        self.y = 0\n",
    "        \n",
    "    def move_up(self):\n",
    "        # Increment the y-position of the rocket.\n",
    "        self.y += 1\n",
    "\n",
    "# Create a Rocket object, and have it start to move up.\n",
    "my_rocket = Rocket()\n",
    "print(\"Rocket altitude:\", my_rocket.y)\n",
    "\n",
    "my_rocket.move_up()\n",
    "print \"Rocket altitude:\", my_rocket.y\n",
    "\n",
    "my_rocket.move_up()\n",
    "print(\"Rocket altitude:\", my_rocket.y)\n",
    "\n"
   ]
  },
  {
   "cell_type": "code",
   "execution_count": 40,
   "metadata": {
    "collapsed": false
   },
   "outputs": [
    {
     "name": "stdout",
     "output_type": "stream",
     "text": [
      "Hello\n",
      "khandwa masala\n"
     ]
    }
   ],
   "source": [
    "class Test: \n",
    "    def funct(self):     #Self makes the stuff inside a function universally accessible\n",
    "        print 'Hello'\n",
    "x = Test()   #Initialize an object with a class\n",
    "x.funct()    #Call a function within that class  \n",
    "\n",
    "#Now if you create a new class with __init__ its a constructor it is always run upon object creation  \n",
    "class NameGenerator: \n",
    "    def __init__(self,name): \n",
    "        self.name = name \n",
    "        self.namegenerator() \n",
    "    def namegenerator(self): \n",
    "        print self.name + \" masala\" \n",
    "\n",
    "newobject = NameGenerator(\"khandwa\")  "
   ]
  },
  {
   "cell_type": "code",
   "execution_count": 2,
   "metadata": {
    "collapsed": false
   },
   "outputs": [
    {
     "ename": "TwilioRestException",
     "evalue": "HTTP 400 error: The From phone number +15168746396 is not a valid, SMS-capable inbound phone number or short code for your account.",
     "output_type": "error",
     "traceback": [
      "\u001b[0;31m---------------------------------------------------------------------------\u001b[0m",
      "\u001b[0;31mTwilioRestException\u001b[0m                       Traceback (most recent call last)",
      "\u001b[0;32m<ipython-input-2-9e4f04b84446>\u001b[0m in \u001b[0;36m<module>\u001b[0;34m()\u001b[0m\n\u001b[1;32m     11\u001b[0m         \u001b[0mto\u001b[0m\u001b[0;34m=\u001b[0m\u001b[0;34m\"+13477030637\"\u001b[0m\u001b[0;34m,\u001b[0m\u001b[0;34m\u001b[0m\u001b[0m\n\u001b[1;32m     12\u001b[0m         \u001b[0mfrom_\u001b[0m\u001b[0;34m=\u001b[0m\u001b[0;34m\"+15168746396\"\u001b[0m\u001b[0;34m,\u001b[0m\u001b[0;34m\u001b[0m\u001b[0m\n\u001b[0;32m---> 13\u001b[0;31m         \u001b[0mbody\u001b[0m\u001b[0;34m=\u001b[0m\u001b[0;34m\"Hello\"\u001b[0m\u001b[0;34m,\u001b[0m\u001b[0;34m\u001b[0m\u001b[0m\n\u001b[0m\u001b[1;32m     14\u001b[0m ) \n",
      "\u001b[0;32m/Users/sanketgupta/anaconda/lib/python2.7/site-packages/twilio/rest/resources/messages.pyc\u001b[0m in \u001b[0;36mcreate\u001b[0;34m(self, from_, **kwargs)\u001b[0m\n\u001b[1;32m    120\u001b[0m         \"\"\"\n\u001b[1;32m    121\u001b[0m         \u001b[0mkwargs\u001b[0m\u001b[0;34m[\u001b[0m\u001b[0;34m\"from\"\u001b[0m\u001b[0;34m]\u001b[0m \u001b[0;34m=\u001b[0m \u001b[0mfrom_\u001b[0m\u001b[0;34m\u001b[0m\u001b[0m\n\u001b[0;32m--> 122\u001b[0;31m         \u001b[0;32mreturn\u001b[0m \u001b[0mself\u001b[0m\u001b[0;34m.\u001b[0m\u001b[0mcreate_instance\u001b[0m\u001b[0;34m(\u001b[0m\u001b[0mkwargs\u001b[0m\u001b[0;34m)\u001b[0m\u001b[0;34m\u001b[0m\u001b[0m\n\u001b[0m\u001b[1;32m    123\u001b[0m \u001b[0;34m\u001b[0m\u001b[0m\n\u001b[1;32m    124\u001b[0m     \u001b[0;34m@\u001b[0m\u001b[0mnormalize_dates\u001b[0m\u001b[0;34m\u001b[0m\u001b[0m\n",
      "\u001b[0;32m/Users/sanketgupta/anaconda/lib/python2.7/site-packages/twilio/rest/resources/base.pyc\u001b[0m in \u001b[0;36mcreate_instance\u001b[0;34m(self, body)\u001b[0m\n\u001b[1;32m    363\u001b[0m         \"\"\"\n\u001b[1;32m    364\u001b[0m         resp, instance = self.request(\"POST\", self.uri,\n\u001b[0;32m--> 365\u001b[0;31m                                       data=transform_params(body))\n\u001b[0m\u001b[1;32m    366\u001b[0m \u001b[0;34m\u001b[0m\u001b[0m\n\u001b[1;32m    367\u001b[0m         \u001b[0;32mif\u001b[0m \u001b[0mresp\u001b[0m\u001b[0;34m.\u001b[0m\u001b[0mstatus_code\u001b[0m \u001b[0;32mnot\u001b[0m \u001b[0;32min\u001b[0m \u001b[0;34m(\u001b[0m\u001b[0;36m200\u001b[0m\u001b[0;34m,\u001b[0m \u001b[0;36m201\u001b[0m\u001b[0;34m)\u001b[0m\u001b[0;34m:\u001b[0m\u001b[0;34m\u001b[0m\u001b[0m\n",
      "\u001b[0;32m/Users/sanketgupta/anaconda/lib/python2.7/site-packages/twilio/rest/resources/base.pyc\u001b[0m in \u001b[0;36mrequest\u001b[0;34m(self, method, uri, **kwargs)\u001b[0m\n\u001b[1;32m    198\u001b[0m \u001b[0;34m\u001b[0m\u001b[0m\n\u001b[1;32m    199\u001b[0m         \u001b[0mkwargs\u001b[0m\u001b[0;34m[\u001b[0m\u001b[0;34m'use_json_extension'\u001b[0m\u001b[0;34m]\u001b[0m \u001b[0;34m=\u001b[0m \u001b[0mself\u001b[0m\u001b[0;34m.\u001b[0m\u001b[0muse_json_extension\u001b[0m\u001b[0;34m\u001b[0m\u001b[0m\n\u001b[0;32m--> 200\u001b[0;31m         \u001b[0mresp\u001b[0m \u001b[0;34m=\u001b[0m \u001b[0mmake_twilio_request\u001b[0m\u001b[0;34m(\u001b[0m\u001b[0mmethod\u001b[0m\u001b[0;34m,\u001b[0m \u001b[0muri\u001b[0m\u001b[0;34m,\u001b[0m \u001b[0mauth\u001b[0m\u001b[0;34m=\u001b[0m\u001b[0mself\u001b[0m\u001b[0;34m.\u001b[0m\u001b[0mauth\u001b[0m\u001b[0;34m,\u001b[0m \u001b[0;34m**\u001b[0m\u001b[0mkwargs\u001b[0m\u001b[0;34m)\u001b[0m\u001b[0;34m\u001b[0m\u001b[0m\n\u001b[0m\u001b[1;32m    201\u001b[0m \u001b[0;34m\u001b[0m\u001b[0m\n\u001b[1;32m    202\u001b[0m         \u001b[0mlogger\u001b[0m\u001b[0;34m.\u001b[0m\u001b[0mdebug\u001b[0m\u001b[0;34m(\u001b[0m\u001b[0mresp\u001b[0m\u001b[0;34m.\u001b[0m\u001b[0mcontent\u001b[0m\u001b[0;34m)\u001b[0m\u001b[0;34m\u001b[0m\u001b[0m\n",
      "\u001b[0;32m/Users/sanketgupta/anaconda/lib/python2.7/site-packages/twilio/rest/resources/base.pyc\u001b[0m in \u001b[0;36mmake_twilio_request\u001b[0;34m(method, uri, **kwargs)\u001b[0m\n\u001b[1;32m    162\u001b[0m \u001b[0;34m\u001b[0m\u001b[0m\n\u001b[1;32m    163\u001b[0m         raise TwilioRestException(status=resp.status_code, method=method,\n\u001b[0;32m--> 164\u001b[0;31m                                   uri=resp.url, msg=message, code=code)\n\u001b[0m\u001b[1;32m    165\u001b[0m \u001b[0;34m\u001b[0m\u001b[0m\n\u001b[1;32m    166\u001b[0m     \u001b[0;32mreturn\u001b[0m \u001b[0mresp\u001b[0m\u001b[0;34m\u001b[0m\u001b[0m\n",
      "\u001b[0;31mTwilioRestException\u001b[0m: HTTP 400 error: The From phone number +15168746396 is not a valid, SMS-capable inbound phone number or short code for your account."
     ]
    }
   ],
   "source": [
    "#TwilioRestClient is a function within __init__.py in a folder rest which is within twilio\n",
    "from twilio.rest import TwilioRestClient \n",
    " \n",
    "# put your own credentials here \n",
    "ACCOUNT_SID = \"AC18256c4ea6db188e54a35e54d8a6903b\" \n",
    "AUTH_TOKEN = \"254925f1b841e2ff48c870543c9efa64\" \n",
    " \n",
    "client = TwilioRestClient(ACCOUNT_SID, AUTH_TOKEN) \n",
    " \n",
    "client.messages.create(     \n",
    "\tto=\"+13477030637\", \n",
    "\tfrom_=\"+15168746396\", \n",
    "\tbody=\"Hello\",  \n",
    ") "
   ]
  },
  {
   "cell_type": "code",
   "execution_count": 44,
   "metadata": {
    "collapsed": false
   },
   "outputs": [
    {
     "data": {
      "text/plain": [
       "<twilio.rest.resources.messages.Message at 0x1041ae950>"
      ]
     },
     "execution_count": 44,
     "metadata": {},
     "output_type": "execute_result"
    }
   ],
   "source": [
    "#Traditional way of importing a folder called rest within twilio folder which will then \n",
    "#be accessed by rest.TwilioRestClient()\n",
    "from twilio import rest\n",
    " \n",
    "# put your own credentials here \n",
    "ACCOUNT_SID = \"AC18256c4ea6db188e54a35e54d8a6903b\" \n",
    "AUTH_TOKEN = \"254925f1b841e2ff48c870543c9efa64\" \n",
    " \n",
    "client = rest.TwilioRestClient(ACCOUNT_SID, AUTH_TOKEN) \n",
    " \n",
    "client.messages.create(     \n",
    "\tto=\"+13477030637\", \n",
    "\tfrom_=\"+15168746396\", \n",
    "\tbody=\"Hello\",  \n",
    ") "
   ]
  },
  {
   "cell_type": "code",
   "execution_count": 1,
   "metadata": {
    "collapsed": false
   },
   "outputs": [
    {
     "data": {
      "text/plain": [
       "u'/Users/sanketgupta/anaconda'"
      ]
     },
     "execution_count": 1,
     "metadata": {},
     "output_type": "execute_result"
    }
   ],
   "source": [
    "pwd"
   ]
  },
  {
   "cell_type": "code",
   "execution_count": 19,
   "metadata": {
    "collapsed": false
   },
   "outputs": [
    {
     "name": "stdout",
     "output_type": "stream",
     "text": [
      "['part_id', 'manufacturer', 'mpn', 'l2_category', 'octoscore', 'num_clicks', 'num_pdp_views', 'num_boms', 'num_queries', 'qty_at_digikey']\n",
      "['1241539', 'Yageo', 'RC0603JR-070RL', 'Resistors', '4.5', '105', '114', '1633', '69', '18166130']\n",
      "['55434392', 'Yageo', 'RC0402JR-070RL', 'Resistors', '4.5', '50', '72', '1364', '34', '29140830']\n",
      "['39455850', 'Vishay', 'CRCW08050000Z0EA', 'Resistors', '4.5', '47', '53', '674', '35', '2877854']\n",
      "['40298764', 'Vishay', 'CRCW040210K0FKED', 'Resistors', '4.5', '44', '53', '1752', '31', '3529818']\n",
      "['55402891', 'Yageo', 'RC0805JR-070RL', 'Resistors', '4.5', '43', '62', '557', '39', '7397402']\n",
      "['39435082', 'Vishay', 'CRCW04020000Z0ED', 'Resistors', '4.5', '42', '57', '1278', '32', '6586990']\n",
      "['55402882', 'Yageo', 'RC0603FR-071KL', 'Resistors', '4.5', '33', '86', '1515', '34', '18461330']\n",
      "['40025538', 'Yageo', 'RC0603FR-0710KL', 'Resistors', '4.0', '88', '35', '1716', '61', '32700340']\n",
      "['55458503', 'Yageo', 'RC0603JR-07100KL', 'Resistors', '4.0', '54', '13', '329', '57', '5216378']\n",
      "['55458461', 'Yageo', 'RC0402FR-0710KL', 'Resistors', '4.0', '49', '41', '1288', '36', '33215792']\n",
      "['55505591', 'Yageo', 'RC0603JR-0733RL', 'Resistors', '4.0', '46', '1', '113', '59', '1422316']\n",
      "['1197359', 'Yageo', 'RC0603FR-0720KL', 'Resistors', '4.0', '39', '7', '544', '43', '3005076']\n",
      "['55388213', 'Vishay', 'CRCW060310K0FKEA', 'Resistors', '3.5', '73', '53', '1748', '27', '4969648']\n",
      "['55403647', 'Panasonic', 'ERJ-3EKF1002V', 'Resistors', '3.5', '61', '86', '1595', '22', '21796870']\n",
      "['55389238', 'Panasonic', 'ERJ-3GEY0R00V', 'Resistors', '3.5', '60', '96', '1855', '23', '15198016']\n",
      "['55404976', 'Panasonic', 'ERJ-2GE0R00X', 'Resistors', '3.5', '58', '139', '2029', '24', '14296126']\n",
      "['39556096', 'Vishay', 'CRCW06030000Z0EA', 'Resistors', '3.5', '46', '65', '1491', '23', '10936092']\n",
      "['55423811', 'Panasonic', 'ERJ-8GEY0R00V', 'Resistors', '3.5', '43', '64', '450', '8', '7222264']\n",
      "['55404980', 'Panasonic', 'ERJ-2RKF1001X', 'Resistors', '3.5', '39', '90', '1146', '15', '11422882']\n",
      "['40025601', 'Yageo', 'RC1206JR-070RL', 'Resistors', '3.5', '33', '52', '392', '14', '4487336']\n",
      "['39435920', 'Vishay', 'CRCW08051K00FKEA', 'Resistors', '3.5', '31', '73', '573', '22', '1275810']\n",
      "['55433929', 'Vishay', 'CRCW06031K00FKEA', 'Resistors', '3.5', '31', '62', '1417', '21', '2767924']\n",
      "['55405059', 'Panasonic', 'ERJ-6GEY0R00V', 'Resistors', '3.5', '31', '95', '791', '14', '12181286']\n",
      "['55422300', 'Panasonic', 'ERJ-6ENF1001V', 'Resistors', '3.5', '31', '78', '431', '11', '4613630']\n",
      "['55403646', 'Panasonic', 'ERJ-3EKF1001V', 'Resistors', '3.0', '57', '49', '1376', '16', '11811738']\n",
      "['115745', 'Bourns', '3296W-1-103LF', 'Resistors', '3.0', '47', '173', '55', '10', '4571']\n",
      "['55403671', 'Panasonic', 'ERJ-3GEYJ103V', 'Resistors', '3.0', '44', '21', '851', '12', '11354260']\n",
      "['39454046', 'Vishay', 'CRCW0603100RFKEA', 'Resistors', '3.0', '38', '50', '827', '13', '905620']\n",
      "['55402862', 'Yageo', 'RC0402FR-071KL', 'Resistors', '3.0', '38', '37', '982', '24', '12532240']\n",
      "['55411477', 'Panasonic', 'ERJ-2RKF1002X', 'Resistors', '3.0', '37', '37', '1545', '18', '22919722']\n",
      "['39436722', 'Vishay', 'CRCW080510K0FKEA', 'Resistors', '3.0', '36', '47', '625', '22', '1406910']\n",
      "['40946036', 'Yageo', 'RC0603FR-07100KL', 'Resistors', '3.0', '34', '15', '1269', '20', '18841742']\n",
      "['55403629', 'Panasonic', 'ERJ-2RKF1003X', 'Resistors', '3.0', '34', '17', '1013', '9', '9411218']\n",
      "['55422885', 'Panasonic', 'ERJ-6GEYJ103V', 'Resistors', '3.0', '33', '24', '274', '11', '7178344']\n",
      "['39455708', 'Vishay', 'CRCW06034K70FKEA', 'Resistors', '3.0', '32', '14', '652', '7', '621630']\n",
      "['1160844', 'Yageo', 'RC0603JR-0710KL', 'Resistors', '3.0', '32', '31', '807', '8', '16309232']\n",
      "['55402861', 'Yageo', 'RC0402FR-07100KL', 'Resistors', '3.0', '31', '22', '1153', '20', '10104230']\n",
      "['55403645', 'Panasonic', 'ERJ-3EKF1000V', 'Resistors', '3.0', '30', '78', '889', '7', '5143630']\n",
      "['39436845', 'Vishay', 'CRCW12060000Z0EA', 'Resistors', '3.0', '28', '90', '563', '16', '1890950']\n",
      "['39455913', 'Vishay', 'CRCW04021K00FKED', 'Resistors', '3.0', '24', '98', '1120', '10', '6615340']\n",
      "['55402879', 'Yageo', 'RC0603FR-07100RL', 'Resistors', '3.0', '24', '54', '971', '19', '8939828']\n",
      "['39455479', 'Vishay', 'CRCW060310R0FKEA', 'Resistors', '3.0', '23', '70', '634', '6', '492962']\n",
      "['55421799', 'Panasonic', 'ERJ-3EKF49R9V', 'Resistors', '3.0', '20', '52', '440', '6', '3798146']\n",
      "['39456097', 'Vishay', 'CRCW1206100RFKEA', 'Resistors', '3.0', '19', '54', '170', '9', '869410']\n",
      "['40019038', 'Vishay', 'CRCW080510R0FKEA', 'Resistors', '3.0', '19', '56', '307', '12', '744806']\n",
      "['55403651', 'Panasonic', 'ERJ-3EKF1501V', 'Resistors', '3.0', '18', '51', '357', '6', '1051166']\n",
      "['9251137', 'Panasonic', 'ERJ-3EKF3300V', 'Resistors', '3.0', '18', '54', '328', '4', '772372']\n",
      "['55403628', 'Panasonic', 'ERJ-2RKF1000X', 'Resistors', '3.0', '17', '65', '903', '10', '12313272']\n",
      "['40301083', 'Yageo', 'RC0603FR-07330RL', 'Resistors', '3.0', '16', '53', '400', '15', '3622318']\n",
      "['41204584', 'Yageo', 'RC0805FR-07100RL', 'Resistors', '3.0', '14', '55', '310', '7', '3823614']\n",
      "['39835260', 'Vishay', 'CRCW0402100RFKED', 'Resistors', '3.0', '14', '63', '736', '11', '1444402']\n",
      "['9251210', 'Panasonic', 'ERJ-3EKF4700V', 'Resistors', '3.0', '11', '54', '247', '1', '990158']\n",
      "['39456141', 'Vishay', 'CRCW0805100KFKEA', 'Resistors', '2.5', '30', '42', '387', '22', '1488404']\n",
      "['39556170', 'Vishay', 'CRCW120610K0FKEA', 'Resistors', '2.5', '29', '37', '265', '9', '825390']\n",
      "['55403670', 'Panasonic', 'ERJ-3GEYJ102V', 'Resistors', '2.5', '29', '8', '428', '10', '8108274']\n",
      "['40025555', 'Yageo', 'RC0805FR-071KL', 'Resistors', '2.5', '29', '25', '434', '23', '5990338']\n",
      "['1253903', 'Yageo', 'RC0402JR-074K7L', 'Resistors', '2.5', '29', '7', '547', '7', '2403962']\n",
      "['55434415', 'Yageo', 'RC1206FR-0710KL', 'Resistors', '2.5', '29', '13', '204', '15', '8761812']\n",
      "['55458470', 'Yageo', 'RC0402JR-0710KL', 'Resistors', '2.5', '29', '15', '536', '10', '13290208']\n",
      "['39670900', 'Vishay', 'CRCW0603100KFKEA', 'Resistors', '2.5', '26', '32', '1157', '8', '1717356']\n",
      "['152968', 'Bourns', 'CAY16-103J4LF', 'Resistors', '2.5', '26', '26', '107', '5', '142400']\n",
      "['746135', 'Murata', 'NCP18XH103F03RB', 'Resistors', '2.5', '25', '10', '249', '14', '763034']\n",
      "['12577177', 'Panasonic', 'ERJ-2RKF33R0X', 'Resistors', '2.5', '25', '15', '382', '7', '2524020']\n",
      "['46506971', 'Vishay', 'CRCW12061K00FKEA', 'Resistors', '2.5', '25', '50', '268', '14', '1418194']\n",
      "['1180803', 'Yageo', 'RC0603FR-070RL', 'Resistors', '2.5', '24', '3', '268', '18', '1138428']\n",
      "['40301103', 'Yageo', 'RC0805FR-0710KL', 'Resistors', '2.5', '24', '34', '574', '23', '10505520']\n",
      "['55403681', 'Panasonic', 'ERJ-6ENF1002V', 'Resistors', '2.5', '24', '12', '559', '8', '5442584']\n",
      "['55402884', 'Yageo', 'RC0603FR-074K7L', 'Resistors', '2.5', '24', '8', '617', '26', '5540274']\n",
      "['1168402', 'Yageo', 'RC0603FR-071ML', 'Resistors', '2.5', '23', '18', '805', '24', '5230954']\n",
      "['55422884', 'Panasonic', 'ERJ-6GEYJ102V', 'Resistors', '2.5', '23', '5', '187', '8', '4495904']\n",
      "['39795573', 'Yageo', 'RC0402FR-0775RL', 'Resistors', '2.5', '23', '12', '310', '5', '2407762']\n",
      "['40254886', 'Yageo', 'RC0603FR-0710RL', 'Resistors', '2.5', '23', '48', '634', '16', '4080986']\n",
      "['39988003', 'Vishay', 'CRCW06031M00FKEA', 'Resistors', '2.5', '23', '17', '542', '9', '682510']\n",
      "['39846148', 'Yageo', 'RC0805FR-074K7L', 'Resistors', '2.5', '22', '11', '215', '21', '2259960']\n",
      "['1214512', 'Yageo', 'RC0603FR-072K2L', 'Resistors', '2.5', '22', '12', '482', '12', '3204064']\n",
      "['42471327', 'Yageo', 'RC0402FR-074K7L', 'Resistors', '2.5', '22', '18', '469', '11', '8093156']\n",
      "['2165026', 'KOA Speer', 'RK73Z1ETTP', 'Resistors', '2.5', '21', '24', '507', '11', '']\n",
      "['39456052', 'Vishay Dale', 'CRCW04021K00JNED', 'Resistors', '2.5', '21', '1', '163', '3', '1115216']\n",
      "['39826226', 'Vishay', 'CRCW060347K0FKEA', 'Resistors', '2.5', '21', '32', '426', '7', '338006']\n",
      "['55403648', 'Panasonic', 'ERJ-3EKF1003V', 'Resistors', '2.5', '20', '24', '983', '7', '11885386']\n",
      "['40815132', 'Yageo', 'RC0402FR-0722RL', 'Resistors', '2.5', '20', '16', '487', '15', '5605742']\n",
      "['55422110', 'Panasonic', 'ERJ-3GEYJ472V', 'Resistors', '2.5', '20', '10', '415', '10', '2217588']\n",
      "['40025573', 'Yageo', 'RC0805JR-0710KL', 'Resistors', '2.5', '20', '5', '198', '12', '6997906']\n",
      "['39437963', 'Vishay', 'CRCW080520K0FKEA', 'Resistors', '2.5', '20', '2', '160', '7', '775358']\n",
      "['55420636', 'Panasonic', 'ERJ-2GEJ102X', 'Resistors', '2.5', '19', '20', '499', '1', '10893234']\n",
      "['55508055', 'Yageo', 'RC0402JR-07100RL', 'Resistors', '2.5', '19', '9', '344', '7', '3354112']\n",
      "['1381767', 'Panasonic', 'ERA-6AEB103V', 'Resistors', '2.5', '19', '10', '107', '7', '1054530']\n",
      "['39455243', 'Vishay Dale', 'CRCW25120000Z0EG', 'Resistors', '2.5', '19', '1', '135', '7', '873300']\n",
      "['55403683', 'Panasonic', 'ERJ-6ENF10R0V', 'Resistors', '2.5', '18', '46', '234', '7', '1985304']\n",
      "['55420638', 'Panasonic', 'ERJ-2GEJ103X', 'Resistors', '2.5', '18', '8', '617', '8', '26520878']\n",
      "['55402867', 'Yageo', 'RC0402FR-0749R9L', 'Resistors', '2.5', '18', '16', '671', '14', '2196410']\n",
      "['55421973', 'Panasonic', 'ERJ-3GEYJ104V', 'Resistors', '2.5', '18', '10', '375', '6', '2255258']\n",
      "['40021082', 'Yageo', 'RC0402JR-07330RL', 'Resistors', '2.5', '17', '9', '206', '7', '2067748']\n",
      "['40952494', 'Yageo', 'RC0402FR-07100RL', 'Resistors', '2.5', '17', '48', '745', '16', '3673200']\n",
      "['39862762', 'Vishay', 'CRCW060322R0FKEA', 'Resistors', '2.5', '17', '45', '218', '2', '653774']\n",
      "['55458504', 'Yageo', 'RC0603JR-07100RL', 'Resistors', '2.5', '17', '12', '356', '16', '7223054']\n",
      "['40254877', 'Yageo', 'RC0402JR-07100KL', 'Resistors', '2.5', '17', '14', '464', '7', '5959590']\n",
      "['28047', 'Bourns', 'MF-MSMF050-2', 'Resistors', '2.5', '17', '19', '211', '10', '121390']\n",
      "['3917682', 'Bourns', 'CR0603-J/-000ELF', 'Resistors', '2.5', '17', '6', '104', '4', '450418']\n",
      "['2166376', 'KOA Speer', 'RK73H1JTTD1002F', 'Resistors', '2.5', '16', '32', '670', '6', '']\n",
      "['55404994', 'Panasonic', 'ERJ-3EKF1004V', 'Resistors', '2.5', '15', '27', '583', '5', '2636265']\n",
      "['55403649', 'Panasonic', 'ERJ-3EKF10R0V', 'Resistors', '2.5', '15', '50', '575', '5', '2437962']\n",
      "['11935048', 'Panasonic', 'ERJ-2RKF2201X', 'Resistors', '2.5', '15', '5', '417', '1', '3586382']\n",
      "['55404984', 'Panasonic', 'ERJ-2RKF1500X', 'Resistors', '2.5', '15', '3', '215', '2', '2335662']\n",
      "['40952860', 'Yageo', 'RC0603FR-0722KL', 'Resistors', '2.5', '15', '10', '299', '10', '8045640']\n",
      "['40952512', 'Yageo', 'RC0402FR-071ML', 'Resistors', '2.5', '15', '7', '554', '15', '2380494']\n",
      "['2165774', 'KOA Speer', 'RK73H1ETTP1002F', 'Resistors', '2.5', '15', '23', '393', '7', '']\n",
      "['55422491', 'Panasonic', 'ERJ-6ENF2002V', 'Resistors', '2.5', '15', '6', '118', '3', '1733070']\n",
      "['1451349', 'US Sensor', '103JG1J', 'Resistors', '2.5', '14', '7', '106', '2', '1338']\n",
      "['2157971', 'KOA Speer', 'RK73Z2ATTD', 'Resistors', '2.5', '14', '11', '337', '8', '']\n",
      "['9251208', 'Panasonic', 'ERJ-3EKF4701V', 'Resistors', '2.5', '14', '20', '432', '10', '6990368']\n",
      "['39455515', 'Vishay', 'CRCW06032K00FKEA', 'Resistors', '2.5', '14', '12', '459', '8', '830458']\n",
      "['55403501', 'Panasonic', 'ERA-3AEB103V', 'Resistors', '2.5', '14', '13', '259', '6', '1312728']\n",
      "['39838380', 'Yageo', 'RC0603FR-072KL', 'Resistors', '2.5', '14', '1', '482', '18', '1932170']\n",
      "['40025548', 'Yageo', 'RC0805FR-07100KL', 'Resistors', '2.5', '14', '12', '380', '11', '7058334']\n",
      "['2168064', 'KOA Speer', 'RK73Z2BTTD', 'Resistors', '2.5', '14', '8', '123', '10', '']\n",
      "['55420678', 'Panasonic', 'ERJ-2GEJ1R0X', 'Resistors', '2.5', '14', '2', '205', '3', '1822136']\n",
      "['1374831', 'Rohm', 'MCR03EZPJ000', 'Resistors', '2.5', '14', '19', '194', '2', '6393210']\n",
      "['55458509', 'Yageo', 'RC0603JR-074K7L', 'Resistors', '2.5', '13', '5', '372', '12', '4193114']\n",
      "['55423009', 'Panasonic', 'ERJ-6GEYJ472V', 'Resistors', '2.5', '13', '17', '248', '2', '1410452']\n",
      "['40946149', 'Yageo', 'RC1206FR-071KL', 'Resistors', '2.5', '13', '49', '237', '17', '216642']\n",
      "['40301050', 'Yageo', 'RC0402FR-0747KL', 'Resistors', '2.5', '13', '9', '517', '7', '4976806']\n",
      "['9251178', 'Panasonic', 'ERJ-2RKF3300X', 'Resistors', '2.5', '13', '3', '215', '4', '1428070']\n",
      "['39817977', 'Yageo', 'RC0603FR-07470KL', 'Resistors', '2.5', '13', '8', '196', '15', '781694']\n",
      "['40950108', 'Vishay', 'CRCW0402200KFKED', 'Resistors', '2.5', '13', '4', '279', '5', '565696']\n",
      "['55412490', 'Panasonic', 'ERJ-3EKF2001V', 'Resistors', '2.5', '13', '43', '404', '1', '2164200']\n",
      "['2157973', 'KOA Speer', 'RK73Z1JTTD', 'Resistors', '2.5', '13', '29', '453', '14', '']\n",
      "['1241382', 'Yageo', 'RC0603FR-07200RL', 'Resistors', '2.5', '13', '6', '205', '6', '1598702']\n",
      "['42338485', 'Yageo', 'RC0402FR-075K11L', 'Resistors', '2.5', '13', '11', '106', '3', '314470']\n",
      "['40025556', 'Yageo', 'RC0805FR-0720KL', 'Resistors', '2.5', '13', '1', '147', '6', '1424078']\n",
      "['39800560', 'Vishay', 'CRCW060333R0FKEA', 'Resistors', '2.5', '13', '4', '227', '2', '330468']\n",
      "['40014462', 'Vishay', 'CRCW06033K30FKEA', 'Resistors', '2.5', '13', '49', '244', '10', '310502']\n",
      "['39714556', 'Vishay', 'CRCW12061R00FKEA', 'Resistors', '2.5', '12', '2', '112', '4', '337402']\n",
      "['40301039', 'Yageo', 'RC0402FR-07150RL', 'Resistors', '2.5', '12', '7', '186', '4', '917768']\n",
      "['39784538', 'Panasonic', 'ERJ-1GEF1000C', 'Resistors', '2.5', '12', '3', '176', '12', '4531382']\n",
      "['55405028', 'Panasonic', 'ERJ-6ENF2001V', 'Resistors', '2.5', '12', '6', '117', '3', '3754844']\n",
      "['40953634', 'Yageo', 'RC1206FR-07100RL', 'Resistors', '2.5', '12', '49', '220', '10', '1833980']\n",
      "['39794552', 'Vishay', 'CRCW0402316KFKED', 'Resistors', '2.5', '12', '4', '126', '4', '11816']\n",
      "['55422078', 'Panasonic', 'ERJ-3GEYJ330V', 'Resistors', '2.5', '12', '2', '108', '5', '1179948']\n",
      "['55402888', 'Yageo', 'RC0603JR-071KL', 'Resistors', '2.5', '12', '18', '511', '4', '5590230']\n",
      "['55402870', 'Yageo', 'RC0402JR-071KL', 'Resistors', '2.5', '12', '15', '435', '9', '4052614']\n",
      "['39803615', 'Yageo', 'RC0603JR-07330RL', 'Resistors', '2.5', '12', '3', '205', '4', '927600']\n",
      "['1237621', 'Yageo', 'RC0402FR-07301RL', 'Resistors', '2.5', '12', '10', '103', '4', '281902']\n",
      "['9266644', 'Panasonic', 'ERJ-2RKF4701X', 'Resistors', '2.5', '12', '20', '589', '6', '5100320']\n",
      "['39455035', 'Vishay', 'CRCW0402100KFKED', 'Resistors', '2.5', '12', '19', '951', '14', '6470542']\n",
      "['55477596', 'Panasonic', 'ERJ-2RKF2002X', 'Resistors', '2.5', '12', '10', '473', '6', '2813122']\n",
      "['39829178', 'Vishay', 'CRCW060320K0FKEA', 'Resistors', '2.5', '12', '3', '505', '4', '609188']\n",
      "['55402864', 'Yageo', 'RC0402FR-073K3L', 'Resistors', '2.5', '12', '49', '284', '7', '1051992']\n",
      "['55422917', 'Panasonic', 'ERJ-6GEYJ151V', 'Resistors', '2.5', '12', '8', '114', '1', '1340456']\n",
      "['55403682', 'Panasonic', 'ERJ-6ENF1004V', 'Resistors', '2.5', '11', '6', '264', '4', '1780702']\n",
      "['55421206', 'Panasonic', 'ERJ-2RKF49R9X', 'Resistors', '2.5', '11', '5', '642', '4', '4627198']\n",
      "['55411066', 'Panasonic', 'EXB-38V103JV', 'Resistors', '2.5', '11', '6', '179', '2', '561228']\n",
      "['55458478', 'Yageo', 'RC0603FR-071K5L', 'Resistors', '2.5', '11', '50', '349', '10', '2436588']\n",
      "['39437456', 'Vishay', 'CRCW060310K0JNEA', 'Resistors', '2.5', '11', '10', '294', '4', '213822']\n",
      "['1196611', 'Rohm', 'MCR03EZPFX1000', 'Resistors', '2.5', '11', '6', '105', '2', '355096']\n",
      "['40952498', 'Yageo', 'RC0402FR-0712KL', 'Resistors', '2.5', '11', '3', '169', '9', '1409536']\n",
      "['55420641', 'Panasonic', 'ERJ-2GEJ105X', 'Resistors', '2.5', '11', '6', '223', '6', '3378438']\n",
      "['55422039', 'Panasonic', 'ERJ-3GEYJ223V', 'Resistors', '2.5', '11', '8', '147', '5', '1149520']\n",
      "['55422883', 'Panasonic', 'ERJ-6GEYJ101V', 'Resistors', '2.5', '11', '8', '173', '4', '1908440']\n",
      "['112371', 'Bourns', 'MF-MSMF030-2', 'Resistors', '2.0', '24', '2', '65', '23', '36714']\n",
      "['2344351', 'Bourns', 'CR0805-J/-000ELF', 'Resistors', '2.0', '22', '4', '66', '7', '215950']\n",
      "['39744156', 'Vishay', 'WSL2512R0100FEA', 'Resistors', '2.0', '21', '2', '76', '12', '20144']\n",
      "['42958037', 'Yageo', 'RC0201FR-0710KL', 'Resistors', '2.0', '19', '5', '74', '10', '3256944']\n",
      "['1162705', 'Panasonic', 'ERA-6AEB102V', 'Resistors', '2.0', '18', '16', '52', '7', '677948']\n",
      "['55413140', 'TE Connectivity', 'MICROSMD005F-2', 'Resistors', '2.0', '17', '4', '63', '10', '']\n",
      "['40953397', 'Yageo', 'RC0805JR-071ML', 'Resistors', '2.0', '16', '2', '67', '4', '1069712']\n",
      "['745658', 'Murata', 'NCP15XH103J03RC', 'Resistors', '2.0', '14', '4', '53', '8', '253288']\n",
      "['39850803', 'Yageo', 'YC124-JR-0710RL', 'Resistors', '2.0', '14', '2', '64', '5', '170162']\n",
      "['42634028', 'Vishay', 'CRCW060310K0FKEAHP', 'Resistors', '2.0', '14', '26', '79', '3', '9218']\n",
      "['42906461', 'Yageo', 'RC2512JK-070RL', 'Resistors', '2.0', '13', '3', '71', '5', '']\n",
      "['1172428', 'Yageo', 'RC0402FR-0761K9L', 'Resistors', '2.0', '13', '12', '85', '2', '380912']\n",
      "['39714638', 'Vishay', 'CRCW1206120RFKEA', 'Resistors', '2.0', '13', '1', '90', '5', '443830']\n",
      "['55448140', 'Panasonic', 'EXB-2HV220JV', 'Resistors', '2.0', '13', '4', '54', '2', '1163974']\n",
      "['55639726', 'Panasonic', 'ERJ-2GEJ751X', 'Resistors', '2.0', '12', '11', '74', '1', '153922']\n",
      "['55412831', 'TE Connectivity', 'MINISMDC014F-2', 'Resistors', '2.0', '12', '9', '65', '14', '']\n",
      "['39455929', 'Vishay Dale', 'CRCW120675R0JNEA', 'Resistors', '2.0', '12', '6', '93', '3', '19206']\n",
      "['55477669', 'Panasonic', 'EXB-2HV103JV', 'Resistors', '2.0', '12', '3', '68', '1', '335500']\n",
      "['22240868', 'Samsung', 'RC0603J000CS', 'Resistors', '2.0', '11', '3', '71', '10', '565058']\n",
      "['39556173', 'Vishay', 'CRCW120610R0FKEA', 'Resistors', '2.0', '10', '61', '158', '2', '613154']\n",
      "['55458463', 'Yageo', 'RC0402FR-0710RL', 'Resistors', '2.0', '8', '52', '405', '10', '6986798']\n",
      "['39556134', 'Vishay', 'CRCW060349R9FKEA', 'Resistors', '2.0', '7', '53', '438', '7', '1164072']\n",
      "['46506970', 'Vishay', 'CRCW0805100RFKEA', 'Resistors', '2.0', '6', '55', '332', '8', '920876']\n",
      "['55404982', 'Panasonic', 'ERJ-2RKF10R0X', 'Resistors', '2.0', '5', '52', '532', '8', '3270158']\n",
      "['39868884', 'Vishay', 'CRCW0603470RFKEA', 'Resistors', '2.0', '4', '55', '258', '5', '455650']\n",
      "['39455112', 'Vishay', 'CRCW040210R0FKED', 'Resistors', '2.0', '4', '54', '517', '8', '524052']\n",
      "['39434809', 'Vishay', 'CRCW06031K50FKEA', 'Resistors', '2.0', '3', '51', '320', '5', '483162']\n",
      "['39823780', 'Yageo', 'RC0603FR-07470RL', 'Resistors', '2.0', '3', '54', '379', '12', '369816']\n",
      "['1240173', 'Yageo', 'RC0603FR-07220RL', 'Resistors', '2.0', '1', '53', '268', '11', '97550']\n",
      "['21540742', 'TE Connectivity', 'SMD075F-2', 'Resistors', '1.5', '61', '9', '40', '12', '']\n",
      "['65304', 'Bourns', '3362P-1-103LF', 'Resistors', '1.5', '24', '291', '29', '3', '14326']\n",
      "['8100639', 'Yageo', 'MFR-25FBF52-10K', 'Resistors', '1.5', '21', '396', '35', '5', '588944']\n",
      "['133027', 'Ohmite', 'OD103JE', 'Resistors', '1.5', '14', '112', '18', '3', '2747']\n",
      "['7483460', 'Bourns', 'CRA2512-FZ-R020ELF', 'Resistors', '1.5', '12', '77', '31', '3', '61708']\n",
      "['5426431', 'BI Technologies', 'P090S-14T20BR10K', 'Resistors', '1.5', '11', '160', '1', '2', '254']\n",
      "['18902051', 'Yageo', 'MFR-25FBF52-1K', 'Resistors', '1.5', '11', '250', '30', '8', '476250']\n",
      "['55403630', 'Panasonic', 'ERJ-2RKF1004X', 'Resistors', '1.5', '10', '7', '548', '5', '3656462']\n",
      "['39823569', 'Vishay', 'CRCW040275R0FKED', 'Resistors', '1.5', '10', '1', '149', '4', '665580']\n",
      "['40025580', 'Yageo', 'RC0805JR-071KL', 'Resistors', '1.5', '10', '1', '205', '14', '4452496']\n",
      "['55422036', 'Panasonic', 'ERJ-3GEYJ221V', 'Resistors', '1.5', '10', '5', '139', '2', '431654']\n",
      "['55403703', 'Panasonic', 'ERJ-8ENF1002V', 'Resistors', '1.5', '10', '29', '149', '1', '3242924']\n",
      "['39799672', 'Vishay', 'CRCW040222R0FKED', 'Resistors', '1.5', '10', '4', '269', '3', '644066']\n",
      "['9231677', 'Panasonic', 'ERJ-3EKF22R0V', 'Resistors', '1.5', '10', '16', '135', '5', '415682']\n",
      "['1369017', 'Yageo', 'RC0603FR-0747KL', 'Resistors', '1.5', '10', '13', '456', '16', '4305590']\n",
      "['39437405', 'Vishay', 'CRCW08054K70FKEA', 'Resistors', '1.5', '10', '12', '192', '13', '308596']\n",
      "['55421742', 'Panasonic', 'ERJ-3EKF4022V', 'Resistors', '1.5', '10', '6', '130', '4', '544366']\n",
      "['55405017', 'Panasonic', 'ERJ-3GEYJ101V', 'Resistors', '1.5', '10', '3', '346', '4', '3447584']\n",
      "['40254895', 'Yageo', 'RC0603FR-0715KL', 'Resistors', '1.5', '10', '19', '367', '7', '2600522']\n",
      "['55405024', 'Panasonic', 'ERJ-6ENF1003V', 'Resistors', '1.5', '10', '12', '244', '5', '4934880']\n",
      "['5032519', 'Yageo', 'RC0402FR-072KL', 'Resistors', '1.5', '10', '5', '228', '7', '3318194']\n",
      "['40953224', 'Yageo', 'RC0805FR-0710RL', 'Resistors', '1.5', '9', '46', '235', '12', '2930860']\n",
      "['1432518', 'Yageo', 'RC0603FR-0775RL', 'Resistors', '1.5', '9', '44', '190', '12', '1309794']\n",
      "['39847071', 'Vishay', 'CRCW0402324KFKED', 'Resistors', '1.5', '9', '5', '108', '2', '185412']\n",
      "['55421931', 'Panasonic', 'ERJ-3EKF8252V', 'Resistors', '1.5', '9', '14', '102', '1', '273114']\n",
      "['39866703', 'Vishay', 'CRCW04024K70FKED', 'Resistors', '1.5', '9', '25', '571', '7', '2031380']\n",
      "['40254917', 'Yageo', 'RC0603JR-071ML', 'Resistors', '1.5', '9', '7', '197', '12', '371322']\n",
      "['39818008', 'Vishay', 'CRCW0402330RFKED', 'Resistors', '1.5', '9', '1', '201', '4', '456960']\n",
      "['39983436', 'Yageo', 'RC0603JR-07470RL', 'Resistors', '1.5', '9', '2', '224', '12', '1770764']\n",
      "['39811376', 'Vishay', 'CRCW060322K0FKEA', 'Resistors', '1.5', '9', '8', '239', '2', '95134']\n",
      "['1258360', 'Yageo', 'RC0402FR-076K49L', 'Resistors', '1.5', '9', '9', '121', '2', '1147144']\n",
      "['55421041', 'Panasonic', 'ERJ-2RKF2491X', 'Resistors', '1.5', '9', '9', '196', '1', '670050']\n",
      "['55420735', 'Panasonic', 'ERJ-2GEJ330X', 'Resistors', '1.5', '9', '8', '262', '4', '6141998']\n",
      "['39785908', 'Vishay', 'CRCW0402470RFKED', 'Resistors', '1.5', '9', '3', '149', '3', '876682']\n",
      "['39786358', 'Vishay', 'CRCW0805220RFKEA', 'Resistors', '1.5', '9', '4', '110', '9', '96870']\n",
      "['40952828', 'Yageo', 'RC0603FR-07150RL', 'Resistors', '1.5', '9', '50', '193', '8', '1242928']\n",
      "['2166377', 'KOA Speer', 'RK73H1JTTD1003F', 'Resistors', '1.5', '9', '14', '388', '4', '']\n",
      "['40952674', 'Yageo', 'RC0402JR-072K2L', 'Resistors', '1.5', '9', '4', '185', '1', '486240']\n",
      "['39456197', 'Vishay Dale', 'CRCW12100000Z0EA', 'Resistors', '1.5', '9', '2', '223', '5', '360646']\n",
      "['39798507', 'Vishay', 'CRCW04021K20FKED', 'Resistors', '1.5', '9', '7', '109', '5', '528728']\n",
      "['55421572', 'Panasonic', 'ERJ-3EKF2003V', 'Resistors', '1.5', '9', '8', '215', '1', '2494632']\n",
      "['39985940', 'Panasonic', 'ERJ-L06KF10CV', 'Resistors', '1.5', '9', '5', '101', '3', '180118']\n",
      "['39593425', 'TE Connectivity', 'RXEF010', 'Resistors', '1.5', '9', '6', '124', '9', '']\n",
      "['40952589', 'Yageo', 'RC0402JR-07150RL', 'Resistors', '1.5', '9', '6', '128', '6', '1268448']\n",
      "['55421567', 'Panasonic', 'ERJ-3EKF2000V', 'Resistors', '1.5', '9', '5', '222', '2', '1301036']\n",
      "['39783534', 'Vishay', 'CRCW08052K20FKEA', 'Resistors', '1.5', '9', '1', '126', '8', '1040570']\n",
      "['41203020', 'Yageo', 'RC0402FR-07330RL', 'Resistors', '1.5', '9', '8', '295', '5', '3026970']\n",
      "['1256324', 'Rohm', 'MCR01MZPJ000', 'Resistors', '1.5', '9', '23', '262', '2', '7725660']\n",
      "['39455105', 'Vishay', 'CRCW080510K0JNEA', 'Resistors', '1.5', '9', '2', '116', '5', '1422766']\n",
      "['55420712', 'Panasonic', 'ERJ-2GEJ271X', 'Resistors', '1.5', '9', '6', '106', '2', '424802']\n",
      "['55403680', 'Panasonic', 'ERJ-6ENF1000V', 'Resistors', '1.5', '9', '49', '211', '6', '1628706']\n",
      "['39856951', 'Vishay', 'CRCW04021M00FKED', 'Resistors', '1.5', '8', '8', '527', '8', '2085568']\n",
      "['40946152', 'Yageo', 'RC1206FR-071RL', 'Resistors', '1.5', '8', '7', '124', '13', '1339442']\n",
      "['9251172', 'Panasonic', 'ERJ-2RKF1202X', 'Resistors', '1.5', '8', '24', '382', '2', '2652000']\n",
      "['55508058', 'Yageo', 'RC0402JR-0733RL', 'Resistors', '1.5', '8', '3', '302', '9', '3414248']\n",
      "['40254872', 'Yageo', 'RC0402FR-07200KL', 'Resistors', '1.5', '8', '5', '269', '4', '3457942']\n",
      "['39818460', 'Yageo', 'RC0402FR-07220RL', 'Resistors', '1.5', '8', '1', '182', '10', '1898836']\n",
      "['55422719', 'Panasonic', 'ERJ-6ENF49R9V', 'Resistors', '1.5', '8', '4', '154', '3', '1259640']\n",
      "['1175826', 'Rohm', 'MCR03EZPFX1001', 'Resistors', '1.5', '8', '5', '123', '1', '1113206']\n",
      "['55422079', 'Panasonic', 'ERJ-3GEYJ331V', 'Resistors', '1.5', '8', '8', '254', '3', '866152']\n",
      "['55421908', 'Panasonic', 'ERJ-3EKF7502V', 'Resistors', '1.5', '8', '3', '113', '3', '344852']\n",
      "['39807949', 'Vishay', 'CRCW0805470RFKEA', 'Resistors', '1.5', '8', '4', '119', '6', '551426']\n"
     ]
    }
   ],
   "source": [
    "import csv\n",
    "\n",
    "f = open('/Users/sanketgupta/Downloads/ResistorData.csv')\n",
    "csv_f = csv.reader(f)\n",
    "\n",
    "for row in csv_f:\n",
    "     print row\n"
   ]
  },
  {
   "cell_type": "code",
   "execution_count": 73,
   "metadata": {
    "collapsed": false
   },
   "outputs": [
    {
     "name": "stdout",
     "output_type": "stream",
     "text": [
      "      part_id     manufacturer               mpn l2_category  octoscore  \\\n",
      "0     1241539            Yageo    RC0603JR-070RL   Resistors        4.5   \n",
      "7    40025538            Yageo   RC0603FR-0710KL   Resistors        4.0   \n",
      "8    55458503            Yageo  RC0603JR-07100KL   Resistors        4.0   \n",
      "12   55388213           Vishay  CRCW060310K0FKEA   Resistors        3.5   \n",
      "13   55403647        Panasonic     ERJ-3EKF1002V   Resistors        3.5   \n",
      "14   55389238        Panasonic     ERJ-3GEY0R00V   Resistors        3.5   \n",
      "15   55404976        Panasonic      ERJ-2GE0R00X   Resistors        3.5   \n",
      "24   55403646        Panasonic     ERJ-3EKF1001V   Resistors        3.0   \n",
      "188  21540742  TE Connectivity         SMD075F-2   Resistors        1.5   \n",
      "\n",
      "     num_clicks  num_pdp_views  num_boms  num_queries  qty_at_digikey  \n",
      "0           105            114      1633           69      18166130.0  \n",
      "7            88             35      1716           61      32700340.0  \n",
      "8            54             13       329           57       5216378.0  \n",
      "12           73             53      1748           27       4969648.0  \n",
      "13           61             86      1595           22      21796870.0  \n",
      "14           60             96      1855           23      15198016.0  \n",
      "15           58            139      2029           24      14296126.0  \n",
      "24           57             49      1376           16      11811738.0  \n",
      "188          61              9        40           12             NaN  \n",
      "    part_id manufacturer               mpn l2_category  octoscore  num_clicks  \\\n",
      "0   1241539        Yageo    RC0603JR-070RL   Resistors        4.5         105   \n",
      "1  55434392        Yageo    RC0402JR-070RL   Resistors        4.5          50   \n",
      "2  39455850       Vishay  CRCW08050000Z0EA   Resistors        4.5          47   \n",
      "3  40298764       Vishay  CRCW040210K0FKED   Resistors        4.5          44   \n",
      "4  55402891        Yageo    RC0805JR-070RL   Resistors        4.5          43   \n",
      "5  39435082       Vishay  CRCW04020000Z0ED   Resistors        4.5          42   \n",
      "6  55402882        Yageo    RC0603FR-071KL   Resistors        4.5          33   \n",
      "\n",
      "   num_pdp_views  num_boms  num_queries  qty_at_digikey  \n",
      "0            114      1633           69      18166130.0  \n",
      "1             72      1364           34      29140830.0  \n",
      "2             53       674           35       2877854.0  \n",
      "3             53      1752           31       3529818.0  \n",
      "4             62       557           39       7397402.0  \n",
      "5             57      1278           32       6586990.0  \n",
      "6             86      1515           34      18461330.0  \n",
      "0    1\n",
      "1    1\n",
      "2    1\n",
      "3    1\n",
      "4    1\n",
      "5    1\n",
      "6    1\n",
      "Name: prediction, dtype: int64\n",
      "13\n"
     ]
    }
   ],
   "source": [
    "import numpy as np \n",
    "import pandas as pd  \n",
    "from pandas import Series, DataFrame\n",
    "data = pd.read_csv('/Users/sanketgupta/Downloads/ResistorData.csv')\n",
    "# for row in data: \n",
    "#         print row \n",
    "\n",
    "# print data['num_clicks']  \n",
    "# print data.num_clicks \n",
    "\n",
    "# for row in data.iterrows(): \n",
    "#     print row[5]\n",
    "\n",
    "print data[data.num_clicks>50]   #instead of iterations and if looops use a direct way to do logic\n",
    "print data[data.octoscore>4]  \n",
    "\n",
    "data[\"prediction\"]=1    #creating new column  called prediction\n",
    "x = data[data.octoscore >4 ]   #if required use intermediate variable to do the logic and then displa\n",
    "print x.prediction \n",
    "\n",
    "print len(pd.unique(data.manufacturer))  #All the unique manufacturers \n",
    "# data.to_csv('octoscores.csv',index=False)\n",
    "\n",
    "\n"
   ]
  },
  {
   "cell_type": "code",
   "execution_count": 55,
   "metadata": {
    "collapsed": false
   },
   "outputs": [
    {
     "name": "stdout",
     "output_type": "stream",
     "text": [
      "India\n",
      "{'yes': 'India', 'no': 'France'}\n",
      "  Capitals country\n",
      "0  Beijing   China\n",
      "1    Delhi   India\n",
      "2    Tokyo   Japan\n"
     ]
    }
   ],
   "source": [
    "#From easylearning guru\n",
    "import numpy as np \n",
    "import pandas as pd  \n",
    "from pandas import Series, DataFrame \n",
    "\n",
    "ser = Series([1,2,3,4])\n",
    "ser\n",
    "ser.values\n",
    "#ser.index \n",
    "\n",
    "country = Series(['France','India'],index=['no','yes'])  #You can also provide your own indices\n",
    "print country[1] #Accessing the first index\n",
    "country=country.to_dict()   #Converting to dictionary\n",
    "print country \n",
    "\n",
    "df = DataFrame(data={'country':[\"China\",\"India\",\"Japan\"],'Capitals':['Beijing',\"Delhi\",\"Tokyo\"]})\n",
    "print df\n"
   ]
  },
  {
   "cell_type": "code",
   "execution_count": 179,
   "metadata": {
    "collapsed": false
   },
   "outputs": [
    {
     "name": "stdout",
     "output_type": "stream",
     "text": [
      "      part_id     manufacturer               mpn l2_category  octoscore  \\\n",
      "0     1241539            Yageo    RC0603JR-070RL   Resistors        4.5   \n",
      "1    55434392            Yageo    RC0402JR-070RL   Resistors        4.5   \n",
      "2    39455850           Vishay  CRCW08050000Z0EA   Resistors        4.5   \n",
      "3    40298764           Vishay  CRCW040210K0FKED   Resistors        4.5   \n",
      "4    55402891            Yageo    RC0805JR-070RL   Resistors        4.5   \n",
      "5    39435082           Vishay  CRCW04020000Z0ED   Resistors        4.5   \n",
      "6    55402882            Yageo    RC0603FR-071KL   Resistors        4.5   \n",
      "7    40025538            Yageo   RC0603FR-0710KL   Resistors        4.0   \n",
      "8    55458503            Yageo  RC0603JR-07100KL   Resistors        4.0   \n",
      "9    55458461            Yageo   RC0402FR-0710KL   Resistors        4.0   \n",
      "10   55505591            Yageo   RC0603JR-0733RL   Resistors        4.0   \n",
      "11    1197359            Yageo   RC0603FR-0720KL   Resistors        4.0   \n",
      "12   55388213           Vishay  CRCW060310K0FKEA   Resistors        3.5   \n",
      "13   55403647        Panasonic     ERJ-3EKF1002V   Resistors        3.5   \n",
      "14   55389238        Panasonic     ERJ-3GEY0R00V   Resistors        3.5   \n",
      "15   55404976        Panasonic      ERJ-2GE0R00X   Resistors        3.5   \n",
      "16   39556096           Vishay  CRCW06030000Z0EA   Resistors        3.5   \n",
      "17   55423811        Panasonic     ERJ-8GEY0R00V   Resistors        3.5   \n",
      "18   55404980        Panasonic     ERJ-2RKF1001X   Resistors        3.5   \n",
      "19   40025601            Yageo    RC1206JR-070RL   Resistors        3.5   \n",
      "20   39435920           Vishay  CRCW08051K00FKEA   Resistors        3.5   \n",
      "21   55433929           Vishay  CRCW06031K00FKEA   Resistors        3.5   \n",
      "22   55405059        Panasonic     ERJ-6GEY0R00V   Resistors        3.5   \n",
      "23   55422300        Panasonic     ERJ-6ENF1001V   Resistors        3.5   \n",
      "24   55403646        Panasonic     ERJ-3EKF1001V   Resistors        3.0   \n",
      "25     115745           Bourns     3296W-1-103LF   Resistors        3.0   \n",
      "26   55403671        Panasonic     ERJ-3GEYJ103V   Resistors        3.0   \n",
      "27   39454046           Vishay  CRCW0603100RFKEA   Resistors        3.0   \n",
      "28   55402862            Yageo    RC0402FR-071KL   Resistors        3.0   \n",
      "29   55411477        Panasonic     ERJ-2RKF1002X   Resistors        3.0   \n",
      "..        ...              ...               ...         ...        ...   \n",
      "220  55420735        Panasonic      ERJ-2GEJ330X   Resistors        1.5   \n",
      "221  39785908           Vishay  CRCW0402470RFKED   Resistors        1.5   \n",
      "222  39786358           Vishay  CRCW0805220RFKEA   Resistors        1.5   \n",
      "223  40952828            Yageo  RC0603FR-07150RL   Resistors        1.5   \n",
      "224   2166377        KOA Speer   RK73H1JTTD1003F   Resistors        1.5   \n",
      "225  40952674            Yageo   RC0402JR-072K2L   Resistors        1.5   \n",
      "226  39456197      Vishay Dale  CRCW12100000Z0EA   Resistors        1.5   \n",
      "227  39798507           Vishay  CRCW04021K20FKED   Resistors        1.5   \n",
      "228  55421572        Panasonic     ERJ-3EKF2003V   Resistors        1.5   \n",
      "229  39985940        Panasonic     ERJ-L06KF10CV   Resistors        1.5   \n",
      "230  39593425  TE Connectivity           RXEF010   Resistors        1.5   \n",
      "231  40952589            Yageo  RC0402JR-07150RL   Resistors        1.5   \n",
      "232  55421567        Panasonic     ERJ-3EKF2000V   Resistors        1.5   \n",
      "233  39783534           Vishay  CRCW08052K20FKEA   Resistors        1.5   \n",
      "234  41203020            Yageo  RC0402FR-07330RL   Resistors        1.5   \n",
      "235   1256324             Rohm      MCR01MZPJ000   Resistors        1.5   \n",
      "236  39455105           Vishay  CRCW080510K0JNEA   Resistors        1.5   \n",
      "237  55420712        Panasonic      ERJ-2GEJ271X   Resistors        1.5   \n",
      "238  55403680        Panasonic     ERJ-6ENF1000V   Resistors        1.5   \n",
      "239  39856951           Vishay  CRCW04021M00FKED   Resistors        1.5   \n",
      "240  40946152            Yageo    RC1206FR-071RL   Resistors        1.5   \n",
      "241   9251172        Panasonic     ERJ-2RKF1202X   Resistors        1.5   \n",
      "242  55508058            Yageo   RC0402JR-0733RL   Resistors        1.5   \n",
      "243  40254872            Yageo  RC0402FR-07200KL   Resistors        1.5   \n",
      "244  39818460            Yageo  RC0402FR-07220RL   Resistors        1.5   \n",
      "245  55422719        Panasonic     ERJ-6ENF49R9V   Resistors        1.5   \n",
      "246   1175826             Rohm    MCR03EZPFX1001   Resistors        1.5   \n",
      "247  55422079        Panasonic     ERJ-3GEYJ331V   Resistors        1.5   \n",
      "248  55421908        Panasonic     ERJ-3EKF7502V   Resistors        1.5   \n",
      "249  39807949           Vishay  CRCW0805470RFKEA   Resistors        1.5   \n",
      "\n",
      "     num_clicks  num_pdp_views  num_boms  num_queries  qty_at_digikey  \\\n",
      "0           105            114      1633           69      18166130.0   \n",
      "1            50             72      1364           34      29140830.0   \n",
      "2            47             53       674           35       2877854.0   \n",
      "3            44             53      1752           31       3529818.0   \n",
      "4            43             62       557           39       7397402.0   \n",
      "5            42             57      1278           32       6586990.0   \n",
      "6            33             86      1515           34      18461330.0   \n",
      "7            88             35      1716           61      32700340.0   \n",
      "8            54             13       329           57       5216378.0   \n",
      "9            49             41      1288           36      33215792.0   \n",
      "10           46              1       113           59       1422316.0   \n",
      "11           39              7       544           43       3005076.0   \n",
      "12           73             53      1748           27       4969648.0   \n",
      "13           61             86      1595           22      21796870.0   \n",
      "14           60             96      1855           23      15198016.0   \n",
      "15           58            139      2029           24      14296126.0   \n",
      "16           46             65      1491           23      10936092.0   \n",
      "17           43             64       450            8       7222264.0   \n",
      "18           39             90      1146           15      11422882.0   \n",
      "19           33             52       392           14       4487336.0   \n",
      "20           31             73       573           22       1275810.0   \n",
      "21           31             62      1417           21       2767924.0   \n",
      "22           31             95       791           14      12181286.0   \n",
      "23           31             78       431           11       4613630.0   \n",
      "24           57             49      1376           16      11811738.0   \n",
      "25           47            173        55           10          4571.0   \n",
      "26           44             21       851           12      11354260.0   \n",
      "27           38             50       827           13        905620.0   \n",
      "28           38             37       982           24      12532240.0   \n",
      "29           37             37      1545           18      22919722.0   \n",
      "..          ...            ...       ...          ...             ...   \n",
      "220           9              8       262            4       6141998.0   \n",
      "221           9              3       149            3        876682.0   \n",
      "222           9              4       110            9         96870.0   \n",
      "223           9             50       193            8       1242928.0   \n",
      "224           9             14       388            4             NaN   \n",
      "225           9              4       185            1        486240.0   \n",
      "226           9              2       223            5        360646.0   \n",
      "227           9              7       109            5        528728.0   \n",
      "228           9              8       215            1       2494632.0   \n",
      "229           9              5       101            3        180118.0   \n",
      "230           9              6       124            9             NaN   \n",
      "231           9              6       128            6       1268448.0   \n",
      "232           9              5       222            2       1301036.0   \n",
      "233           9              1       126            8       1040570.0   \n",
      "234           9              8       295            5       3026970.0   \n",
      "235           9             23       262            2       7725660.0   \n",
      "236           9              2       116            5       1422766.0   \n",
      "237           9              6       106            2        424802.0   \n",
      "238           9             49       211            6       1628706.0   \n",
      "239           8              8       527            8       2085568.0   \n",
      "240           8              7       124           13       1339442.0   \n",
      "241           8             24       382            2       2652000.0   \n",
      "242           8              3       302            9       3414248.0   \n",
      "243           8              5       269            4       3457942.0   \n",
      "244           8              1       182           10       1898836.0   \n",
      "245           8              4       154            3       1259640.0   \n",
      "246           8              5       123            1       1113206.0   \n",
      "247           8              8       254            3        866152.0   \n",
      "248           8              3       113            3        344852.0   \n",
      "249           8              4       119            6        551426.0   \n",
      "\n",
      "     click_score  bom_score  query_score  views_score  octo_score  \n",
      "0            1.5        1.5          1.5          0.5         5.0  \n",
      "1            0.0        1.5          1.5          0.5         3.5  \n",
      "2            0.0        0.0          1.5          0.5         2.0  \n",
      "3            0.0        1.5          1.5          0.5         3.5  \n",
      "4            0.0        0.0          1.5          0.5         2.0  \n",
      "5            0.0        1.5          1.5          0.5         3.5  \n",
      "6            0.0        1.5          1.5          0.5         3.5  \n",
      "7            1.5        1.5          1.5          0.0         4.5  \n",
      "8            1.5        0.0          1.5          0.0         3.0  \n",
      "9            0.0        1.5          1.5          0.0         3.0  \n",
      "10           0.0        0.0          1.5          0.0         1.5  \n",
      "11           0.0        0.0          1.5          0.0         1.5  \n",
      "12           1.5        1.5          0.0          0.5         3.5  \n",
      "13           1.5        1.5          0.0          0.5         3.5  \n",
      "14           1.5        1.5          0.0          0.5         3.5  \n",
      "15           1.5        1.5          0.0          0.5         3.5  \n",
      "16           0.0        1.5          0.0          0.5         2.0  \n",
      "17           0.0        0.0          0.0          0.5         0.5  \n",
      "18           0.0        1.5          0.0          0.5         2.0  \n",
      "19           0.0        0.0          0.0          0.5         0.5  \n",
      "20           0.0        0.0          0.0          0.5         0.5  \n",
      "21           0.0        1.5          0.0          0.5         2.0  \n",
      "22           0.0        0.0          0.0          0.5         0.5  \n",
      "23           0.0        0.0          0.0          0.5         0.5  \n",
      "24           1.5        1.5          0.0          0.0         3.0  \n",
      "25           0.0        0.0          0.0          0.5         0.5  \n",
      "26           0.0        0.0          0.0          0.0         0.0  \n",
      "27           0.0        0.0          0.0          0.0         0.0  \n",
      "28           0.0        0.0          0.0          0.0         0.0  \n",
      "29           0.0        1.5          0.0          0.0         1.5  \n",
      "..           ...        ...          ...          ...         ...  \n",
      "220          0.0        0.0          0.0          0.0         0.0  \n",
      "221          0.0        0.0          0.0          0.0         0.0  \n",
      "222          0.0        0.0          0.0          0.0         0.0  \n",
      "223          0.0        0.0          0.0          0.0         0.0  \n",
      "224          0.0        0.0          0.0          0.0         0.0  \n",
      "225          0.0        0.0          0.0          0.0         0.0  \n",
      "226          0.0        0.0          0.0          0.0         0.0  \n",
      "227          0.0        0.0          0.0          0.0         0.0  \n",
      "228          0.0        0.0          0.0          0.0         0.0  \n",
      "229          0.0        0.0          0.0          0.0         0.0  \n",
      "230          0.0        0.0          0.0          0.0         0.0  \n",
      "231          0.0        0.0          0.0          0.0         0.0  \n",
      "232          0.0        0.0          0.0          0.0         0.0  \n",
      "233          0.0        0.0          0.0          0.0         0.0  \n",
      "234          0.0        0.0          0.0          0.0         0.0  \n",
      "235          0.0        0.0          0.0          0.0         0.0  \n",
      "236          0.0        0.0          0.0          0.0         0.0  \n",
      "237          0.0        0.0          0.0          0.0         0.0  \n",
      "238          0.0        0.0          0.0          0.0         0.0  \n",
      "239          0.0        0.0          0.0          0.0         0.0  \n",
      "240          0.0        0.0          0.0          0.0         0.0  \n",
      "241          0.0        0.0          0.0          0.0         0.0  \n",
      "242          0.0        0.0          0.0          0.0         0.0  \n",
      "243          0.0        0.0          0.0          0.0         0.0  \n",
      "244          0.0        0.0          0.0          0.0         0.0  \n",
      "245          0.0        0.0          0.0          0.0         0.0  \n",
      "246          0.0        0.0          0.0          0.0         0.0  \n",
      "247          0.0        0.0          0.0          0.0         0.0  \n",
      "248          0.0        0.0          0.0          0.0         0.0  \n",
      "249          0.0        0.0          0.0          0.0         0.0  \n",
      "\n",
      "[250 rows x 15 columns]\n",
      "<class 'pandas.core.series.Series'>\n"
     ]
    }
   ],
   "source": [
    "import numpy as np\n",
    "import pandas as pd\n",
    "from pandas import Series, DataFrame\n",
    "\n",
    "data = pd.read_csv('/Users/sanketgupta/Downloads/ResistorData.csv')\n",
    "data2 = DataFrame(data)\n",
    "data[\"click_score\"] = 0 \n",
    "data[\"bom_score\"] = 0\n",
    "data[\"query_score\"] = 0 \n",
    "data[\"views_score\"] = 0 \n",
    "\n",
    "\n",
    "#print data.loc[(data.num_clicks>50)]\n",
    "\n",
    "data.loc[data.num_clicks>50,\"click_score\"] = 1.5   \n",
    "data.loc[data.num_boms>1000,\"bom_score\"] = 1.5  \n",
    "data.loc[data.num_queries>30,\"query_score\"] = 1.5 \n",
    "data.loc[data.num_pdp_views>50,\"views_score\"] = 0.5\n",
    "\n",
    "data[\"octo_score\"] = data[\"click_score\"] + data[\"bom_score\"] + data[\"query_score\"] + data[\"views_score\"] \n",
    "print data\n",
    "print type(data[\"click_score\"])\n",
    "\n",
    "# octo_score=[]\n",
    "# click_score2=[]\n",
    "\n",
    "# for row in data2['num_clicks']: \n",
    "#     if row > 50: \n",
    "#         click_score2.append('1.5')\n",
    "#     else:\n",
    "#         click_score2.append('0')\n",
    "\n",
    "# data2[\"click_score2\"] = click_score2\n",
    "# print data2\n",
    "\n",
    "    \n",
    "\n",
    "    \n",
    "# d1 = DataFrame(data[data.num_clicks>60] ) \n",
    "# d1[\"click_score\"]=1.5\n",
    "\n"
   ]
  },
  {
   "cell_type": "code",
   "execution_count": 106,
   "metadata": {
    "collapsed": false
   },
   "outputs": [
    {
     "name": "stdout",
     "output_type": "stream",
     "text": [
      "   AAA  BBB  CCC\n",
      "0    4   10  100\n",
      "1    5   20   50\n",
      "2    6   30  -30\n",
      "3    7   40  -50\n"
     ]
    }
   ],
   "source": [
    "df = pd.DataFrame({'AAA' : [4,5,6,7],\n",
    "                   'BBB' : [10,20,30,40],\n",
    "                   'CCC' : [100,50,-30,-50]}); print(df)"
   ]
  },
  {
   "cell_type": "code",
   "execution_count": 108,
   "metadata": {
    "collapsed": false
   },
   "outputs": [
    {
     "name": "stdout",
     "output_type": "stream",
     "text": [
      "   AAA  BBB  CCC\n",
      "0    4   10  100\n"
     ]
    }
   ],
   "source": [
    "example1 = df.loc[(df.AAA < 5)]; print(example1)"
   ]
  },
  {
   "cell_type": "code",
   "execution_count": 224,
   "metadata": {
    "collapsed": false
   },
   "outputs": [
    {
     "name": "stdout",
     "output_type": "stream",
     "text": [
      "      part_id     manufacturer               mpn l2_category  num_clicks  \\\n",
      "0     1241539            Yageo    RC0603JR-070RL   Resistors         105   \n",
      "1    55434392            Yageo    RC0402JR-070RL   Resistors          50   \n",
      "2    39455850           Vishay  CRCW08050000Z0EA   Resistors          47   \n",
      "3    40298764           Vishay  CRCW040210K0FKED   Resistors          44   \n",
      "4    55402891            Yageo    RC0805JR-070RL   Resistors          43   \n",
      "5    39435082           Vishay  CRCW04020000Z0ED   Resistors          42   \n",
      "6    55402882            Yageo    RC0603FR-071KL   Resistors          33   \n",
      "7    40025538            Yageo   RC0603FR-0710KL   Resistors          88   \n",
      "8    55458503            Yageo  RC0603JR-07100KL   Resistors          54   \n",
      "9    55458461            Yageo   RC0402FR-0710KL   Resistors          49   \n",
      "10   55505591            Yageo   RC0603JR-0733RL   Resistors          46   \n",
      "11    1197359            Yageo   RC0603FR-0720KL   Resistors          39   \n",
      "12   55388213           Vishay  CRCW060310K0FKEA   Resistors          73   \n",
      "13   55403647        Panasonic     ERJ-3EKF1002V   Resistors          61   \n",
      "14   55389238        Panasonic     ERJ-3GEY0R00V   Resistors          60   \n",
      "15   55404976        Panasonic      ERJ-2GE0R00X   Resistors          58   \n",
      "16   39556096           Vishay  CRCW06030000Z0EA   Resistors          46   \n",
      "17   55423811        Panasonic     ERJ-8GEY0R00V   Resistors          43   \n",
      "18   55404980        Panasonic     ERJ-2RKF1001X   Resistors          39   \n",
      "19   40025601            Yageo    RC1206JR-070RL   Resistors          33   \n",
      "20   39435920           Vishay  CRCW08051K00FKEA   Resistors          31   \n",
      "21   55433929           Vishay  CRCW06031K00FKEA   Resistors          31   \n",
      "22   55405059        Panasonic     ERJ-6GEY0R00V   Resistors          31   \n",
      "23   55422300        Panasonic     ERJ-6ENF1001V   Resistors          31   \n",
      "24   55403646        Panasonic     ERJ-3EKF1001V   Resistors          57   \n",
      "25     115745           Bourns     3296W-1-103LF   Resistors          47   \n",
      "26   55403671        Panasonic     ERJ-3GEYJ103V   Resistors          44   \n",
      "27   39454046           Vishay  CRCW0603100RFKEA   Resistors          38   \n",
      "28   55402862            Yageo    RC0402FR-071KL   Resistors          38   \n",
      "29   55411477        Panasonic     ERJ-2RKF1002X   Resistors          37   \n",
      "..        ...              ...               ...         ...         ...   \n",
      "220  55420735        Panasonic      ERJ-2GEJ330X   Resistors           9   \n",
      "221  39785908           Vishay  CRCW0402470RFKED   Resistors           9   \n",
      "222  39786358           Vishay  CRCW0805220RFKEA   Resistors           9   \n",
      "223  40952828            Yageo  RC0603FR-07150RL   Resistors           9   \n",
      "224   2166377        KOA Speer   RK73H1JTTD1003F   Resistors           9   \n",
      "225  40952674            Yageo   RC0402JR-072K2L   Resistors           9   \n",
      "226  39456197      Vishay Dale  CRCW12100000Z0EA   Resistors           9   \n",
      "227  39798507           Vishay  CRCW04021K20FKED   Resistors           9   \n",
      "228  55421572        Panasonic     ERJ-3EKF2003V   Resistors           9   \n",
      "229  39985940        Panasonic     ERJ-L06KF10CV   Resistors           9   \n",
      "230  39593425  TE Connectivity           RXEF010   Resistors           9   \n",
      "231  40952589            Yageo  RC0402JR-07150RL   Resistors           9   \n",
      "232  55421567        Panasonic     ERJ-3EKF2000V   Resistors           9   \n",
      "233  39783534           Vishay  CRCW08052K20FKEA   Resistors           9   \n",
      "234  41203020            Yageo  RC0402FR-07330RL   Resistors           9   \n",
      "235   1256324             Rohm      MCR01MZPJ000   Resistors           9   \n",
      "236  39455105           Vishay  CRCW080510K0JNEA   Resistors           9   \n",
      "237  55420712        Panasonic      ERJ-2GEJ271X   Resistors           9   \n",
      "238  55403680        Panasonic     ERJ-6ENF1000V   Resistors           9   \n",
      "239  39856951           Vishay  CRCW04021M00FKED   Resistors           8   \n",
      "240  40946152            Yageo    RC1206FR-071RL   Resistors           8   \n",
      "241   9251172        Panasonic     ERJ-2RKF1202X   Resistors           8   \n",
      "242  55508058            Yageo   RC0402JR-0733RL   Resistors           8   \n",
      "243  40254872            Yageo  RC0402FR-07200KL   Resistors           8   \n",
      "244  39818460            Yageo  RC0402FR-07220RL   Resistors           8   \n",
      "245  55422719        Panasonic     ERJ-6ENF49R9V   Resistors           8   \n",
      "246   1175826             Rohm    MCR03EZPFX1001   Resistors           8   \n",
      "247  55422079        Panasonic     ERJ-3GEYJ331V   Resistors           8   \n",
      "248  55421908        Panasonic     ERJ-3EKF7502V   Resistors           8   \n",
      "249  39807949           Vishay  CRCW0805470RFKEA   Resistors           8   \n",
      "\n",
      "     num_pdp_views  num_boms  num_queries  qty_at_digikey  octoscore  \n",
      "0              114      1633           69      18166130.0        5.0  \n",
      "1               72      1364           34      29140830.0        5.0  \n",
      "2               53       674           35       2877854.0        4.0  \n",
      "3               53      1752           31       3529818.0        4.5  \n",
      "4               62       557           39       7397402.0        4.0  \n",
      "5               57      1278           32       6586990.0        4.5  \n",
      "6               86      1515           34      18461330.0        4.5  \n",
      "7               35      1716           61      32700340.0        4.5  \n",
      "8               13       329           57       5216378.0        3.0  \n",
      "9               41      1288           36      33215792.0        4.5  \n",
      "10               1       113           59       1422316.0        3.0  \n",
      "11               7       544           43       3005076.0        4.0  \n",
      "12              53      1748           27       4969648.0        4.5  \n",
      "13              86      1595           22      21796870.0        4.5  \n",
      "14              96      1855           23      15198016.0        4.5  \n",
      "15             139      2029           24      14296126.0        4.5  \n",
      "16              65      1491           23      10936092.0        4.5  \n",
      "17              64       450            8       7222264.0        3.0  \n",
      "18              90      1146           15      11422882.0        4.5  \n",
      "19              52       392           14       4487336.0        3.0  \n",
      "20              73       573           22       1275810.0        3.5  \n",
      "21              62      1417           21       2767924.0        3.5  \n",
      "22              95       791           14      12181286.0        3.5  \n",
      "23              78       431           11       4613630.0        2.5  \n",
      "24              49      1376           16      11811738.0        4.0  \n",
      "25             173        55           10          4571.0        2.0  \n",
      "26              21       851           12      11354260.0        3.5  \n",
      "27              50       827           13        905620.0        3.5  \n",
      "28              37       982           24      12532240.0        4.0  \n",
      "29              37      1545           18      22919722.0        4.0  \n",
      "..             ...       ...          ...             ...        ...  \n",
      "220              8       262            4       6141998.0        0.0  \n",
      "221              3       149            3        876682.0        0.0  \n",
      "222              4       110            9         96870.0        0.0  \n",
      "223             50       193            8       1242928.0        0.0  \n",
      "224             14       388            4             NaN        1.0  \n",
      "225              4       185            1        486240.0        0.0  \n",
      "226              2       223            5        360646.0        0.0  \n",
      "227              7       109            5        528728.0        0.0  \n",
      "228              8       215            1       2494632.0        0.0  \n",
      "229              5       101            3        180118.0        0.0  \n",
      "230              6       124            9             NaN        0.0  \n",
      "231              6       128            6       1268448.0        0.0  \n",
      "232              5       222            2       1301036.0        0.0  \n",
      "233              1       126            8       1040570.0        0.0  \n",
      "234              8       295            5       3026970.0        0.0  \n",
      "235             23       262            2       7725660.0        0.0  \n",
      "236              2       116            5       1422766.0        0.0  \n",
      "237              6       106            2        424802.0        0.0  \n",
      "238             49       211            6       1628706.0        0.0  \n",
      "239              8       527            8       2085568.0        1.0  \n",
      "240              7       124           13       1339442.0        1.0  \n",
      "241             24       382            2       2652000.0        1.0  \n",
      "242              3       302            9       3414248.0        0.0  \n",
      "243              5       269            4       3457942.0        0.0  \n",
      "244              1       182           10       1898836.0        0.0  \n",
      "245              4       154            3       1259640.0        0.0  \n",
      "246              5       123            1       1113206.0        0.0  \n",
      "247              8       254            3        866152.0        0.0  \n",
      "248              3       113            3        344852.0        0.0  \n",
      "249              4       119            6        551426.0        0.0  \n",
      "\n",
      "[250 rows x 10 columns]\n"
     ]
    }
   ],
   "source": [
    "import numpy as np\n",
    "import pandas as pd\n",
    "from pandas import Series, DataFrame\n",
    "\n",
    "data = pd.read_csv('/Users/sanketgupta/Downloads/ResistorData.csv')\n",
    "data = DataFrame(data)\n",
    "\n",
    "octo_score=[]\n",
    "click_score=[] \n",
    "bom_score=[]\n",
    "query_score=[] \n",
    "views_score=[] \n",
    "\n",
    "click_t1 = np.percentile(data[\"num_clicks\"],90) #36.1\n",
    "click_t2 = np.percentile(data[\"num_clicks\"],60) #17\n",
    "views_t1 = np.percentile(data[\"num_pdp_views\"],90) #62.1\n",
    "boms_t1 = np.percentile(data[\"num_boms\"],90) #907.8\n",
    "boms_t2 = np.percentile(data[\"num_boms\"],60) #369 \n",
    "queries_t1 = np.percentile(data[\"num_queries\"],95) #27 \n",
    "queries_t2 = np.percentile(data[\"num_queries\"],70) #11\n",
    "\n",
    "# boms_t2 = np.percentile(data[\"num_clicks\"],60) \n",
    "\n",
    "for row in data['num_clicks']: \n",
    "    if row > click_t1: \n",
    "        click_score.append(1.5)\n",
    "    elif row > click_t2:\n",
    "        click_score.append(1) \n",
    "    else: \n",
    "        click_score.append(0)\n",
    "\n",
    "        \n",
    "for row in data['num_pdp_views']: \n",
    "    if row > views_t1: \n",
    "        views_score.append(0.5)\n",
    "    else: \n",
    "        views_score.append(0)\n",
    "\n",
    "for row in data['num_boms']: \n",
    "    if row > boms_t1: \n",
    "        bom_score.append(1.5)\n",
    "    elif row > boms_t2:\n",
    "        bom_score.append(1) \n",
    "    else: \n",
    "        bom_score.append(0)\n",
    "\n",
    "        \n",
    "for row in data['num_queries']: \n",
    "    if row > queries_t1: \n",
    "        query_score.append(1.5)\n",
    "    elif row > queries_t2:\n",
    "        query_score.append(1) \n",
    "    else: \n",
    "        query_score.append(0)\n",
    "\n",
    "\n",
    "\n",
    "data[\"click_score\"] = click_score \n",
    "data[\"bom_score\"] = bom_score \n",
    "data[\"query_score\"] = query_score  \n",
    "data[\"views_score\"] = views_score \n",
    "\n",
    "data = data.drop(\"octoscore\",1)\n",
    "data[\"octoscore\"] = data[\"click_score\"] + data[\"bom_score\"] + data[\"query_score\"] + data[\"views_score\"]  \n",
    "data = data.drop(\"click_score\",1)\n",
    "data = data.drop(\"bom_score\",1)\n",
    "data = data.drop(\"query_score\",1)\n",
    "data = data.drop(\"views_score\",1)\n",
    "\n",
    "\n",
    "print data\n",
    "data.to_csv('/Users/sanketgupta/Downloads/octoscores.csv',index=False)"
   ]
  },
  {
   "cell_type": "code",
   "execution_count": 1,
   "metadata": {
    "collapsed": false
   },
   "outputs": [
    {
     "name": "stderr",
     "output_type": "stream",
     "text": [
      "/Users/sanketgupta/anaconda/lib/python2.7/site-packages/sklearn/utils/validation.py:386: DeprecationWarning: Passing 1d arrays as data is deprecated in 0.17 and willraise ValueError in 0.19. Reshape your data either using X.reshape(-1, 1) if your data has a single feature or X.reshape(1, -1) if it contains a single sample.\n",
      "  DeprecationWarning)\n"
     ]
    },
    {
     "name": "stdout",
     "output_type": "stream",
     "text": [
      "('Prediction', array([8]))\n"
     ]
    }
   ],
   "source": [
    "import matplotlib.pyplot as plt\n",
    "from sklearn import datasets\n",
    "from sklearn import svm \n",
    "\n",
    "digits = datasets.load_digits() \n",
    "clf = svm.SVC(gamma=0.001, C=100)\n",
    "\n",
    "x,y = digits.data[:-10], digits.target[:-10] \n",
    "\n",
    "clf.fit(x,y)\n",
    "print ('Prediction', clf.predict(digits.data[-1])) \n",
    "\n",
    "plt.imshow(digits.images[-1],cmap=plt.cm.gray_r, interpolation=\"nearest\") \n",
    "plt.show()"
   ]
  },
  {
   "cell_type": "code",
   "execution_count": 9,
   "metadata": {
    "collapsed": false
   },
   "outputs": [
    {
     "name": "stdout",
     "output_type": "stream",
     "text": [
      "[1]\n"
     ]
    }
   ],
   "source": [
    "#Naive Bayes\n",
    "import numpy as np\n",
    "X = np.array([[-1, -1], [-2, -1], [-3, -2], [1, 1], [2, 1], [3, 2]])\n",
    "Y = np.array([1, 1, 1, 2, 2, 2])\n",
    "from sklearn.naive_bayes import GaussianNB\n",
    "clf = GaussianNB()\n",
    "clf.fit(X, Y)\n",
    "# GaussianNB()\n",
    "print(clf.predict([[0,0]]))"
   ]
  },
  {
   "cell_type": "code",
   "execution_count": 20,
   "metadata": {
    "collapsed": false
   },
   "outputs": [
    {
     "name": "stdout",
     "output_type": "stream",
     "text": [
      "[1]\n"
     ]
    }
   ],
   "source": [
    "#SVM \n",
    "import numpy as np\n",
    "X = np.array([[-1, -1], [-2, -1], [-3, -2], [1, 1], [2, 1], [3, 2]])\n",
    "Y = np.array([1, 1, 1, 2, 2, 2])\n",
    "from sklearn.svm import SVC\n",
    "clf = SVC(kernel=\"linear\")\n",
    "clf.fit(X, Y) \n",
    "print(clf.predict([[0,0]]))"
   ]
  },
  {
   "cell_type": "code",
   "execution_count": 3,
   "metadata": {
    "collapsed": false
   },
   "outputs": [
    {
     "name": "stdout",
     "output_type": "stream",
     "text": [
      "ERJ2GE0R00X\n"
     ]
    }
   ],
   "source": [
    "variable = 'ERJ2GE0R00X' \n",
    "print str(variable)"
   ]
  },
  {
   "cell_type": "code",
   "execution_count": null,
   "metadata": {
    "collapsed": false
   },
   "outputs": [],
   "source": [
    "import matplotlib.pyplot as plt\n",
    "plt.plot([1,2,3,4])\n",
    "plt.ylabel('some numbers')\n",
    "plt.show()"
   ]
  },
  {
   "cell_type": "code",
   "execution_count": null,
   "metadata": {
    "collapsed": false
   },
   "outputs": [],
   "source": [
    "import matplotlib.pyplot as plt\n",
    "import numpy as np\n",
    "import pandas as pd \n",
    "import pylab\n",
    "\n",
    "x = np.linspace(0, 10, 1000)\n",
    "plt.plot(x, np.sin(x), x, np.cos(x)) \n",
    "pylab.show()\n"
   ]
  },
  {
   "cell_type": "code",
   "execution_count": null,
   "metadata": {
    "collapsed": false
   },
   "outputs": [],
   "source": [
    "import seaborn as sns\n",
    "sns.set()\n",
    "plt.plot(x, np.sin(x), x, np.cos(x))"
   ]
  },
  {
   "cell_type": "code",
   "execution_count": 3,
   "metadata": {
    "collapsed": false
   },
   "outputs": [
    {
     "data": {
      "text/plain": [
       "u'agg'"
      ]
     },
     "execution_count": 3,
     "metadata": {},
     "output_type": "execute_result"
    }
   ],
   "source": [
    "import matplotlib\n",
    "matplotlib.get_backend()"
   ]
  },
  {
   "cell_type": "code",
   "execution_count": 2,
   "metadata": {
    "collapsed": false
   },
   "outputs": [],
   "source": [
    "import matplotlib\n",
    "matplotlib.use('Agg', warn=False)"
   ]
  },
  {
   "cell_type": "code",
   "execution_count": null,
   "metadata": {
    "collapsed": true
   },
   "outputs": [],
   "source": [
    "import matplotlib.pyplot as p\n",
    "p.switch_backend('Agg') "
   ]
  },
  {
   "cell_type": "code",
   "execution_count": 2,
   "metadata": {
    "collapsed": false
   },
   "outputs": [],
   "source": [
    "%matplotlib inline "
   ]
  },
  {
   "cell_type": "code",
   "execution_count": 51,
   "metadata": {
    "collapsed": false
   },
   "outputs": [
    {
     "ename": "AttributeError",
     "evalue": "'module' object has no attribute 'show'",
     "output_type": "error",
     "traceback": [
      "\u001b[0;31m---------------------------------------------------------------------------\u001b[0m",
      "\u001b[0;31mAttributeError\u001b[0m                            Traceback (most recent call last)",
      "\u001b[0;32m<ipython-input-51-e821ed9f2d12>\u001b[0m in \u001b[0;36m<module>\u001b[0;34m()\u001b[0m\n\u001b[1;32m      9\u001b[0m \u001b[0msns\u001b[0m\u001b[0;34m.\u001b[0m\u001b[0mjointplot\u001b[0m\u001b[0;34m(\u001b[0m\u001b[0;34m\"total_bill\"\u001b[0m\u001b[0;34m,\u001b[0m \u001b[0;34m\"tip\"\u001b[0m\u001b[0;34m,\u001b[0m \u001b[0mtips\u001b[0m\u001b[0;34m,\u001b[0m \u001b[0mkind\u001b[0m\u001b[0;34m=\u001b[0m\u001b[0;34m'reg'\u001b[0m\u001b[0;34m)\u001b[0m\u001b[0;34m;\u001b[0m\u001b[0;34m\u001b[0m\u001b[0m\n\u001b[1;32m     10\u001b[0m \u001b[0;34m\u001b[0m\u001b[0m\n\u001b[0;32m---> 11\u001b[0;31m \u001b[0msns\u001b[0m\u001b[0;34m.\u001b[0m\u001b[0mshow\u001b[0m\u001b[0;34m(\u001b[0m\u001b[0;34m)\u001b[0m\u001b[0;34m\u001b[0m\u001b[0m\n\u001b[0m",
      "\u001b[0;31mAttributeError\u001b[0m: 'module' object has no attribute 'show'"
     ]
    }
   ],
   "source": [
    "import seaborn as sns\n",
    "import matplotlib.pyplot as plt\n",
    "\n",
    "sns.set()\n",
    "\n",
    "# Load one of the data sets that come with seaborn\n",
    "tips = sns.load_dataset(\"tips\")\n",
    "\n",
    "sns.jointplot(\"total_bill\", \"tip\", tips, kind='reg'); \n",
    "\n",
    "sns.show()"
   ]
  },
  {
   "cell_type": "code",
   "execution_count": 12,
   "metadata": {
    "collapsed": false
   },
   "outputs": [
    {
     "name": "stdout",
     "output_type": "stream",
     "text": [
      "2\n",
      "133\n"
     ]
    }
   ],
   "source": [
    "from bisect import bisect \n",
    "x = [1,133,233] \n",
    "index = bisect(x,134)\n",
    "print index\n",
    "if index > 0: \n",
    "    perfect_break = x[index-1] \n",
    "    print perfect_break"
   ]
  },
  {
   "cell_type": "code",
   "execution_count": 15,
   "metadata": {
    "collapsed": false
   },
   "outputs": [
    {
     "name": "stdout",
     "output_type": "stream",
     "text": [
      "25.5\n",
      "40.0\n",
      "42.5\n"
     ]
    }
   ],
   "source": [
    "import numpy as np \n",
    "data = [6, 7, 15, 36, 39, 40, 41, 42, 43, 47, 49] \n",
    "\n",
    "print np.percentile(data,25)\n",
    "print np.median(data) \n",
    "print np.percentile(data,75)"
   ]
  },
  {
   "cell_type": "code",
   "execution_count": 6,
   "metadata": {
    "collapsed": false
   },
   "outputs": [
    {
     "name": "stdout",
     "output_type": "stream",
     "text": [
      "iqr 34.5\n",
      "median 232.5\n",
      "q25 215.25\n",
      "q75 249.75\n"
     ]
    }
   ],
   "source": [
    "import numpy as np \n",
    "#data = [1.5,1.5] \n",
    "#data =[6.08,156.48,8.42] \n",
    "#data = [91.91,91.92,91.91,96.96,87.83]\n",
    "#data = [558,19] \n",
    "data = [267,198]\n",
    "print 'iqr', (np.percentile(data,75)-np.percentile(data,25)) \n",
    "print 'median', np.median(data) \n",
    "print 'q25', np.percentile(data,25)\n",
    "print 'q75', np.percentile(data,75)\n"
   ]
  },
  {
   "cell_type": "code",
   "execution_count": 2,
   "metadata": {
    "collapsed": false
   },
   "outputs": [
    {
     "name": "stdout",
     "output_type": "stream",
     "text": [
      "iqr 0.433025\n",
      "median 3.23\n",
      "q25 3.1178\n",
      "q75 3.550825\n"
     ]
    }
   ],
   "source": [
    "import numpy as np\n",
    "#data=[3.144, 4.21, 3.612, 3.0916, 2.92, 3.23, 3.53165, 3.161, 3.57]\n",
    "data=[3.144, 3.612, 3.0916, 2.92, 3.23, 3.53165, 3.57]\n",
    "print 'iqr', (np.percentile(data,75)-np.percentile(data,25)) \n",
    "print 'median', np.median(data) \n",
    "print 'q25', np.percentile(data,25)\n",
    "print 'q75', np.percentile(data,75)"
   ]
  },
  {
   "cell_type": "code",
   "execution_count": 14,
   "metadata": {
    "collapsed": false
   },
   "outputs": [
    {
     "name": "stdout",
     "output_type": "stream",
     "text": [
      "[2.92, 3.0916, 3.144, 3.23, 3.53165, 3.57, 3.612]\n",
      "3.550825\n",
      "3.23\n"
     ]
    }
   ],
   "source": [
    "import math \n",
    "import functools \n",
    "\n",
    "data=[3.144, 3.612, 3.0916, 2.92, 3.23, 3.53165, 3.57]\n",
    "data.sort() \n",
    "print data\n",
    "def percentile(N, percent):\n",
    "    \"\"\"\n",
    "    Find the percentile of a list of values.\n",
    "    @parameter N - is a list of values. Note N MUST BE already sorted.\n",
    "    @parameter percent - a float value from 0.0 to 1.0.\n",
    "    @return - the percentile of the values\n",
    "    \"\"\"\n",
    "    if not N:\n",
    "        return None\n",
    "    k = (len(N)-1) * percent\n",
    "    f = math.floor(k)\n",
    "    c = math.ceil(k)\n",
    "    if f == c:\n",
    "        return N[int(k)]\n",
    "    d0 = N[int(f)] * (c-k)\n",
    "    d1 = N[int(c)] * (k-f)\n",
    "    return d0+d1 \n",
    "\n",
    "print percentile(data,0.75)\n",
    "median = functools.partial(percentile, percent=0.5) \n",
    "print median(data)"
   ]
  },
  {
   "cell_type": "code",
   "execution_count": 8,
   "metadata": {
    "collapsed": false
   },
   "outputs": [
    {
     "name": "stdout",
     "output_type": "stream",
     "text": [
      "['10u', 'F', ' ', 'F', 'errite beadf']\n"
     ]
    }
   ],
   "source": [
    "import re\n",
    "print re.split(r'(F*)','10uF Ferrite beadf') \n",
    "print re.split(r'"
   ]
  },
  {
   "cell_type": "code",
   "execution_count": 4,
   "metadata": {
    "collapsed": false
   },
   "outputs": [
    {
     "ename": "LookupError",
     "evalue": "\n**********************************************************************\n  Resource u'tokenizers/punkt/english.pickle' not found.  Please\n  use the NLTK Downloader to obtain the resource:  >>>\n  nltk.download()\n  Searched in:\n    - '/Users/sanketgupta/nltk_data'\n    - '/usr/share/nltk_data'\n    - '/usr/local/share/nltk_data'\n    - '/usr/lib/nltk_data'\n    - '/usr/local/lib/nltk_data'\n    - u''\n**********************************************************************",
     "output_type": "error",
     "traceback": [
      "\u001b[0;31m---------------------------------------------------------------------------\u001b[0m",
      "\u001b[0;31mLookupError\u001b[0m                               Traceback (most recent call last)",
      "\u001b[0;32m<ipython-input-4-a301dfacb29e>\u001b[0m in \u001b[0;36m<module>\u001b[0;34m()\u001b[0m\n\u001b[1;32m      1\u001b[0m \u001b[0;32mfrom\u001b[0m \u001b[0mnltk\u001b[0m\u001b[0;34m.\u001b[0m\u001b[0mtokenize\u001b[0m \u001b[0;32mimport\u001b[0m \u001b[0msent_tokenize\u001b[0m\u001b[0;34m\u001b[0m\u001b[0m\n\u001b[0;32m----> 2\u001b[0;31m \u001b[0mtokens\u001b[0m \u001b[0;34m=\u001b[0m \u001b[0msent_tokenize\u001b[0m\u001b[0;34m(\u001b[0m\u001b[0;34m\"asdasdas asdsd don't resistors\"\u001b[0m\u001b[0;34m)\u001b[0m\u001b[0;34m\u001b[0m\u001b[0m\n\u001b[0m",
      "\u001b[0;32m/Users/sanketgupta/anaconda/lib/python2.7/site-packages/nltk/tokenize/__init__.pyc\u001b[0m in \u001b[0;36msent_tokenize\u001b[0;34m(text, language)\u001b[0m\n\u001b[1;32m     91\u001b[0m     \u001b[0;34m:\u001b[0m\u001b[0mparam\u001b[0m \u001b[0mlanguage\u001b[0m\u001b[0;34m:\u001b[0m \u001b[0mthe\u001b[0m \u001b[0mmodel\u001b[0m \u001b[0mname\u001b[0m \u001b[0;32min\u001b[0m \u001b[0mthe\u001b[0m \u001b[0mPunkt\u001b[0m \u001b[0mcorpus\u001b[0m\u001b[0;34m\u001b[0m\u001b[0m\n\u001b[1;32m     92\u001b[0m     \"\"\"\n\u001b[0;32m---> 93\u001b[0;31m     \u001b[0mtokenizer\u001b[0m \u001b[0;34m=\u001b[0m \u001b[0mload\u001b[0m\u001b[0;34m(\u001b[0m\u001b[0;34m'tokenizers/punkt/{0}.pickle'\u001b[0m\u001b[0;34m.\u001b[0m\u001b[0mformat\u001b[0m\u001b[0;34m(\u001b[0m\u001b[0mlanguage\u001b[0m\u001b[0;34m)\u001b[0m\u001b[0;34m)\u001b[0m\u001b[0;34m\u001b[0m\u001b[0m\n\u001b[0m\u001b[1;32m     94\u001b[0m     \u001b[0;32mreturn\u001b[0m \u001b[0mtokenizer\u001b[0m\u001b[0;34m.\u001b[0m\u001b[0mtokenize\u001b[0m\u001b[0;34m(\u001b[0m\u001b[0mtext\u001b[0m\u001b[0;34m)\u001b[0m\u001b[0;34m\u001b[0m\u001b[0m\n\u001b[1;32m     95\u001b[0m \u001b[0;34m\u001b[0m\u001b[0m\n",
      "\u001b[0;32m/Users/sanketgupta/anaconda/lib/python2.7/site-packages/nltk/data.pyc\u001b[0m in \u001b[0;36mload\u001b[0;34m(resource_url, format, cache, verbose, logic_parser, fstruct_reader, encoding)\u001b[0m\n\u001b[1;32m    806\u001b[0m \u001b[0;34m\u001b[0m\u001b[0m\n\u001b[1;32m    807\u001b[0m     \u001b[0;31m# Load the resource.\u001b[0m\u001b[0;34m\u001b[0m\u001b[0;34m\u001b[0m\u001b[0m\n\u001b[0;32m--> 808\u001b[0;31m     \u001b[0mopened_resource\u001b[0m \u001b[0;34m=\u001b[0m \u001b[0m_open\u001b[0m\u001b[0;34m(\u001b[0m\u001b[0mresource_url\u001b[0m\u001b[0;34m)\u001b[0m\u001b[0;34m\u001b[0m\u001b[0m\n\u001b[0m\u001b[1;32m    809\u001b[0m \u001b[0;34m\u001b[0m\u001b[0m\n\u001b[1;32m    810\u001b[0m     \u001b[0;32mif\u001b[0m \u001b[0mformat\u001b[0m \u001b[0;34m==\u001b[0m \u001b[0;34m'raw'\u001b[0m\u001b[0;34m:\u001b[0m\u001b[0;34m\u001b[0m\u001b[0m\n",
      "\u001b[0;32m/Users/sanketgupta/anaconda/lib/python2.7/site-packages/nltk/data.pyc\u001b[0m in \u001b[0;36m_open\u001b[0;34m(resource_url)\u001b[0m\n\u001b[1;32m    924\u001b[0m \u001b[0;34m\u001b[0m\u001b[0m\n\u001b[1;32m    925\u001b[0m     \u001b[0;32mif\u001b[0m \u001b[0mprotocol\u001b[0m \u001b[0;32mis\u001b[0m \u001b[0mNone\u001b[0m \u001b[0;32mor\u001b[0m \u001b[0mprotocol\u001b[0m\u001b[0;34m.\u001b[0m\u001b[0mlower\u001b[0m\u001b[0;34m(\u001b[0m\u001b[0;34m)\u001b[0m \u001b[0;34m==\u001b[0m \u001b[0;34m'nltk'\u001b[0m\u001b[0;34m:\u001b[0m\u001b[0;34m\u001b[0m\u001b[0m\n\u001b[0;32m--> 926\u001b[0;31m         \u001b[0;32mreturn\u001b[0m \u001b[0mfind\u001b[0m\u001b[0;34m(\u001b[0m\u001b[0mpath_\u001b[0m\u001b[0;34m,\u001b[0m \u001b[0mpath\u001b[0m \u001b[0;34m+\u001b[0m \u001b[0;34m[\u001b[0m\u001b[0;34m''\u001b[0m\u001b[0;34m]\u001b[0m\u001b[0;34m)\u001b[0m\u001b[0;34m.\u001b[0m\u001b[0mopen\u001b[0m\u001b[0;34m(\u001b[0m\u001b[0;34m)\u001b[0m\u001b[0;34m\u001b[0m\u001b[0m\n\u001b[0m\u001b[1;32m    927\u001b[0m     \u001b[0;32melif\u001b[0m \u001b[0mprotocol\u001b[0m\u001b[0;34m.\u001b[0m\u001b[0mlower\u001b[0m\u001b[0;34m(\u001b[0m\u001b[0;34m)\u001b[0m \u001b[0;34m==\u001b[0m \u001b[0;34m'file'\u001b[0m\u001b[0;34m:\u001b[0m\u001b[0;34m\u001b[0m\u001b[0m\n\u001b[1;32m    928\u001b[0m         \u001b[0;31m# urllib might not use mode='rb', so handle this one ourselves:\u001b[0m\u001b[0;34m\u001b[0m\u001b[0;34m\u001b[0m\u001b[0m\n",
      "\u001b[0;32m/Users/sanketgupta/anaconda/lib/python2.7/site-packages/nltk/data.pyc\u001b[0m in \u001b[0;36mfind\u001b[0;34m(resource_name, paths)\u001b[0m\n\u001b[1;32m    646\u001b[0m     \u001b[0msep\u001b[0m \u001b[0;34m=\u001b[0m \u001b[0;34m'*'\u001b[0m \u001b[0;34m*\u001b[0m \u001b[0;36m70\u001b[0m\u001b[0;34m\u001b[0m\u001b[0m\n\u001b[1;32m    647\u001b[0m     \u001b[0mresource_not_found\u001b[0m \u001b[0;34m=\u001b[0m \u001b[0;34m'\\n%s\\n%s\\n%s'\u001b[0m \u001b[0;34m%\u001b[0m \u001b[0;34m(\u001b[0m\u001b[0msep\u001b[0m\u001b[0;34m,\u001b[0m \u001b[0mmsg\u001b[0m\u001b[0;34m,\u001b[0m \u001b[0msep\u001b[0m\u001b[0;34m)\u001b[0m\u001b[0;34m\u001b[0m\u001b[0m\n\u001b[0;32m--> 648\u001b[0;31m     \u001b[0;32mraise\u001b[0m \u001b[0mLookupError\u001b[0m\u001b[0;34m(\u001b[0m\u001b[0mresource_not_found\u001b[0m\u001b[0;34m)\u001b[0m\u001b[0;34m\u001b[0m\u001b[0m\n\u001b[0m\u001b[1;32m    649\u001b[0m \u001b[0;34m\u001b[0m\u001b[0m\n\u001b[1;32m    650\u001b[0m \u001b[0;34m\u001b[0m\u001b[0m\n",
      "\u001b[0;31mLookupError\u001b[0m: \n**********************************************************************\n  Resource u'tokenizers/punkt/english.pickle' not found.  Please\n  use the NLTK Downloader to obtain the resource:  >>>\n  nltk.download()\n  Searched in:\n    - '/Users/sanketgupta/nltk_data'\n    - '/usr/share/nltk_data'\n    - '/usr/local/share/nltk_data'\n    - '/usr/lib/nltk_data'\n    - '/usr/local/lib/nltk_data'\n    - u''\n**********************************************************************"
     ]
    }
   ],
   "source": [
    "from nltk.tokenize import sent_tokenize\n",
    "tokens = sent_tokenize(\"asdasdas asdsd don't resistors\")"
   ]
  },
  {
   "cell_type": "code",
   "execution_count": null,
   "metadata": {
    "collapsed": false
   },
   "outputs": [],
   "source": [
    "import nltk\n",
    "tokens = nltk.word_tokenize(\"asdasdas asdsd don't resistors\")  \n",
    "print nltk.stem_tokens(tokens)\n",
    "print tokens"
   ]
  },
  {
   "cell_type": "code",
   "execution_count": 5,
   "metadata": {
    "collapsed": false
   },
   "outputs": [
    {
     "name": "stdout",
     "output_type": "stream",
     "text": [
      "showing info https://raw.githubusercontent.com/nltk/nltk_data/gh-pages/index.xml\n"
     ]
    },
    {
     "data": {
      "text/plain": [
       "True"
      ]
     },
     "execution_count": 5,
     "metadata": {},
     "output_type": "execute_result"
    }
   ],
   "source": [
    "nltk.download()\n"
   ]
  },
  {
   "cell_type": "code",
   "execution_count": 12,
   "metadata": {
    "collapsed": false
   },
   "outputs": [
    {
     "name": "stdout",
     "output_type": "stream",
     "text": [
      "['Many', 'algorithms', 'for', 'processing', 'text', 'require', 'taking', 'passages', 'of', 'text', 'and', 'turn', 'them', 'into', 'sentences', 'and', 'words', '.']\n",
      "['The', 'process', 'of', 'doing', 'is', 'very', 'specific', 'to', 'the', 'language', 'being', 'processed', 'and', 'possibily', 'influenced', 'by', 'how', 'the', 'text', 'was', 'collected', 'or', 'the', 'genre', 'of', 'communication', '.']\n"
     ]
    }
   ],
   "source": [
    "import nltk\n",
    "\n",
    "text = '''Many algorithms for processing text require taking passages of text and turn them into sentences\n",
    "and words.  The process of doing is very specific to the language being processed and possibily influenced \n",
    "by how the text was collected or the genre of communication.'''\n",
    "\n",
    "sentences = nltk.tokenize.sent_tokenize(text)\n",
    "\n",
    "for s in sentences:\n",
    "  words = nltk.tokenize.word_tokenize(s)\n",
    "  print words"
   ]
  },
  {
   "cell_type": "code",
   "execution_count": 13,
   "metadata": {
    "collapsed": false
   },
   "outputs": [
    {
     "name": "stdout",
     "output_type": "stream",
     "text": [
      "IN: preposition or conjunction, subordinating\n",
      "    astride among uppon whether out inside pro despite on by throughout\n",
      "    below within for towards near behind atop around if like until below\n",
      "    next into if beside ...\n"
     ]
    }
   ],
   "source": [
    "nltk.help.upenn_tagset('IN')"
   ]
  },
  {
   "cell_type": "code",
   "execution_count": 36,
   "metadata": {
    "collapsed": false
   },
   "outputs": [
    {
     "name": "stdout",
     "output_type": "stream",
     "text": [
      "[u'resistor', u'thick', u'film', u'throughhol', u'1.6', 'x', u'0.8', 'mm', u'33.2', u'ohm', '1%', u'0.1w(1/10w)', u'100ppm/', 'c', u'mold', u'smd', u'paper', u't/r']\n"
     ]
    }
   ],
   "source": [
    "from nltk.stem.lancaster import LancasterStemmer \n",
    "from nltk.stem.porter import PorterStemmer \n",
    "from nltk.stem.snowball import SnowballStemmer \n",
    "\n",
    "st = LancasterStemmer() \n",
    "pt = PorterStemmer() \n",
    "snt = SnowballStemmer(\"english\")\n",
    "\n",
    "# st.stem('happily') \n",
    "# st.stem('mangoes') \n",
    "# st.stem('resistors') \n",
    "pt.stem('resistors') \n",
    "\n",
    "text = 'Resistors Thick Film throughhole 1.6 x 0.8 mm 33.2 Ohm 1% 0.1W(1/10W) 100ppm/ C Molded SMD Paper T/R '\n",
    "print [snt.stem(word) for word in text.split()]"
   ]
  },
  {
   "cell_type": "code",
   "execution_count": 34,
   "metadata": {
    "collapsed": false
   },
   "outputs": [
    {
     "name": "stdout",
     "output_type": "stream",
     "text": [
      "article\n",
      "leaf\n",
      "['Resistors', 'Thick', 'Film', '1.6', 'x', '0.8', 'mm', '33.2', 'Ohm', '1%', '0.1W(1/10W)', '100ppm/', 'C', 'Molded', 'SMD', 'Paper', 'T/R']\n"
     ]
    }
   ],
   "source": [
    "import nltk\n",
    "lemma = nltk.wordnet.WordNetLemmatizer()\n",
    "print lemma.lemmatize('article')\n",
    "print lemma.lemmatize('leaves') \n",
    "\n",
    "text = 'Resistors Thick Film 1.6 x 0.8 mm 33.2 Ohm 1% 0.1W(1/10W) 100ppm/ C Molded SMD Paper T/R '\n",
    "print [lemma.lemmatize(word) for word in text.split()]\n"
   ]
  },
  {
   "cell_type": "code",
   "execution_count": 40,
   "metadata": {
    "collapsed": false
   },
   "outputs": [
    {
     "name": "stdout",
     "output_type": "stream",
     "text": [
      "['R', 'e', 's', 'i', 's', 't', 'o', 'r', 's', ' ', 'T', 'h', 'i', 'c', 'k', ' ', 'F', 'i', 'l', 'm', ' ', 't', 'h', 'r', 'o', 'u', 'g', 'h', 'h', 'o', 'l', 'e', ' ', '1', '6', ' ', 'x', ' ', '0', '8', ' ', 'm', 'm', ' ', '3', '3', '2', ' ', 'O', 'h', 'm', ' ', '1', ' ', '0', '1', 'W', '1', '1', '0', 'W', ' ', '1', '0', '0', 'p', 'p', 'm', ' ', 'C', ' ', 'M', 'o', 'l', 'd', 'e', 'd', ' ', 'S', 'M', 'D', ' ', 'P', 'a', 'p', 'e', 'r', ' ', 'T', 'R', ' ']\n"
     ]
    },
    {
     "data": {
      "text/plain": [
       "'R e s i s t o r s   T h i c k   F i l m   t h r o u g h h o l e   1 6   x   0 8   m m   3 3 2   O h m   1   0 1 W 1 1 0 W   1 0 0 p p m   C   M o l d e d   S M D   P a p e r   T R  '"
      ]
     },
     "execution_count": 40,
     "metadata": {},
     "output_type": "execute_result"
    }
   ],
   "source": [
    "import string \n",
    "w = \"rsd caps asdad;sdg 1K-16K-0603-HIGH\"\n",
    "nopunct = [w for w in text if w not in string.punctuation] \n",
    "print nopunct\n",
    "' '.join(nopunct[0:100])"
   ]
  },
  {
   "cell_type": "code",
   "execution_count": 52,
   "metadata": {
    "collapsed": false
   },
   "outputs": [
    {
     "name": "stdout",
     "output_type": "stream",
     "text": [
      "0    1\n",
      "1    2\n",
      "2    3\n",
      "Name: 0, dtype: int64\n"
     ]
    }
   ],
   "source": [
    "from pandas import DataFrame \n",
    "\n",
    "data = DataFrame([1,2,3]) \n",
    "print data"
   ]
  },
  {
   "cell_type": "code",
   "execution_count": 10,
   "metadata": {
    "collapsed": false
   },
   "outputs": [
    {
     "name": "stdout",
     "output_type": "stream",
     "text": [
      "3\n"
     ]
    }
   ],
   "source": [
    "from statistics import mode\n",
    "votes = ['6309','6309','6309','4132'] \n",
    "print votes.count(mode(votes))"
   ]
  },
  {
   "cell_type": "code",
   "execution_count": 28,
   "metadata": {
    "collapsed": false
   },
   "outputs": [
    {
     "data": {
      "text/plain": [
       "'0.024123 nf capacitor'"
      ]
     },
     "execution_count": 28,
     "metadata": {},
     "output_type": "execute_result"
    }
   ],
   "source": [
    "import re\n",
    "re.sub(r'(\\d{1,5})([upn][fF])', r'\\1 \\2', \"0.024123nf capacitor\") \n"
   ]
  },
  {
   "cell_type": "code",
   "execution_count": 21,
   "metadata": {
    "collapsed": false
   },
   "outputs": [
    {
     "name": "stdout",
     "output_type": "stream",
     "text": [
      "10\n"
     ]
    }
   ],
   "source": [
    "import re\n",
    "m = re.match(r'(\\d{1,5})([u|p|n]F)', \"10uF capacitor\") \n",
    "print m.group(1)"
   ]
  },
  {
   "cell_type": "code",
   "execution_count": 30,
   "metadata": {
    "collapsed": false
   },
   "outputs": [
    {
     "name": "stdout",
     "output_type": "stream",
     "text": [
      "resistor inductor inductors\n",
      "contact pin solder st thruhole bulk \n"
     ]
    }
   ],
   "source": [
    "import re \n",
    "print re.sub(r'(?<=tor)s(?=\\s)','',\"resistors inductor inductors\") \n",
    "description = \"Contact PIN Solder ST Thru-Hole Bulk \" \n",
    "description = description.lower()\n",
    "description = re.sub(r'[-\\s](?=(hole|wound))','',description) \n",
    "print description"
   ]
  },
  {
   "cell_type": "code",
   "execution_count": 11,
   "metadata": {
    "collapsed": false
   },
   "outputs": [
    {
     "name": "stdout",
     "output_type": "stream",
     "text": [
      "0.25\n"
     ]
    }
   ],
   "source": [
    "from nltk.probability import UniformProbDist as U\n",
    "UD=U([1,2,3,3,3,3,3,4])\n",
    "print UD.prob(3)"
   ]
  },
  {
   "cell_type": "code",
   "execution_count": 33,
   "metadata": {
    "collapsed": false
   },
   "outputs": [
    {
     "data": {
      "text/plain": [
       "(1, 3, 7)"
      ]
     },
     "execution_count": 33,
     "metadata": {},
     "output_type": "execute_result"
    }
   ],
   "source": [
    "# you can write to stdout for debugging purposes, e.g.\n",
    "# print \"this is a debug message\"\n",
    "# Write a function:\n",
    "# def solution(A)\n",
    "# that, given a zero-indexed array A consisting of N integers, returns any of its equilibrium indices. The function should return −1 if no equilibrium index exists.\n",
    "def solution(A):\n",
    "    # write your code in Python 2.7 \n",
    "    indices_eq = []   \n",
    "    for i in range(1,len(A)):  \n",
    "        sum_prev = 0 \n",
    "        sum_next = 0\n",
    "        if i > 0:  \n",
    "            for j in range(0,i): \n",
    "                sum_prev = sum_prev + A[j]  \n",
    "            for k in range(i+1,len(A)): \n",
    "                sum_next = sum_next + A[k] \n",
    "        if sum_prev == sum_next: \n",
    "            indices_eq.append(i) \n",
    "    \n",
    "    if indices_eq: \n",
    "#         for value in indices_eq: \n",
    "#             return value   \n",
    "          return tuple(indices_eq)\n",
    "    else: \n",
    "        return -1 \n",
    "\n",
    "solution([-1,3,-4,5,1,-6,2,1]) \n",
    "#solution([1,2,-2])"
   ]
  },
  {
   "cell_type": "code",
   "execution_count": 34,
   "metadata": {
    "collapsed": false
   },
   "outputs": [
    {
     "ename": "SyntaxError",
     "evalue": "invalid syntax (<ipython-input-34-651b780d426b>, line 1)",
     "output_type": "error",
     "traceback": [
      "\u001b[0;36m  File \u001b[0;32m\"<ipython-input-34-651b780d426b>\"\u001b[0;36m, line \u001b[0;32m1\u001b[0m\n\u001b[0;31m    int equi(int arr[], int n) {\u001b[0m\n\u001b[0m           ^\u001b[0m\n\u001b[0;31mSyntaxError\u001b[0m\u001b[0;31m:\u001b[0m invalid syntax\n"
     ]
    }
   ],
   "source": [
    "int equi(int arr[], int n) {\n",
    "    if (n==0) return -1; \n",
    "    long long sum = 0;\n",
    "    int i; \n",
    "    for(i=0;i<n;i++) sum+=(long long) arr[i]; \n",
    "\n",
    "    long long sum_left = 0;    \n",
    "    for(i=0;i<n;i++) {\n",
    "        long long sum_right = sum - sum_left - (long long) arr[i];\n",
    "        if (sum_left == sum_right) return i;\n",
    "        sum_left += (long long) arr[i];\n",
    "    } \n",
    "    return -1; \n",
    "} "
   ]
  },
  {
   "cell_type": "code",
   "execution_count": 49,
   "metadata": {
    "collapsed": false
   },
   "outputs": [
    {
     "name": "stdout",
     "output_type": "stream",
     "text": [
      "[-1, -10, -10, -9, -9, -9, -1, -1, -1, -1]\n",
      "-1\n"
     ]
    }
   ],
   "source": [
    "# def solution(A):\n",
    "#     n = len(A)\n",
    "#     L = [-1] + A\n",
    "#     print L\n",
    "#     count = 0\n",
    "#     pos = (n + 1) // 2\n",
    "#     candidate = L[pos]\n",
    "#     for j in xrange(1,n+1): \n",
    "#         count = 0\n",
    "#         for i in xrange(1, n + 1):\n",
    "#             if (L[i] == L[j]):\n",
    "#                 count = count + 1 \n",
    "#                 print count\n",
    "#     if (count > pos):\n",
    "#         return candidate\n",
    "#     return -1\n",
    "# A = [1,50,1,55,55,50,50,50,50,50]\n",
    "# print solution(A)\n",
    "\n",
    "def solution(A):\n",
    "    n = len(A)\n",
    "    L = [-1] + A  \n",
    "    print L \n",
    "    count = 0\n",
    "    pos = (n + 1) // 2\n",
    "    candidate = L[pos]\n",
    "    for i in xrange(1, n + 1):\n",
    "        if (L[i] == candidate):\n",
    "            count = count + 1\n",
    "    if (2*count > n):\n",
    "        return candidate\n",
    "    return -1\n",
    "\n",
    "# A = [1,50,1,55,55,50,50,50,50,50] \n",
    "A = [-10,-10,-9,-9,-9,-1,-1,-1,-1]\n",
    "print solution(A)"
   ]
  },
  {
   "cell_type": "code",
   "execution_count": 94,
   "metadata": {
    "collapsed": false
   },
   "outputs": [
    {
     "name": "stdout",
     "output_type": "stream",
     "text": [
      "AJ is: -4\n",
      "AI is: 2\n",
      "AJ is: 6\n",
      "AI is: 2\n",
      "AJ is: -3\n",
      "AI is: 2\n",
      "AJ is: 9\n",
      "AI is: 2\n",
      "[2, 2, 4, 1, 10]\n",
      "AJ is: 6\n",
      "AI is: -4\n",
      "AJ is: -3\n",
      "AI is: -4\n",
      "AJ is: 9\n",
      "AI is: -4\n",
      "[2, 2, 4, 1, 10, 4, 2, 1, 8]\n",
      "AJ is: -3\n",
      "AI is: 6\n",
      "AJ is: 9\n",
      "AI is: 6\n",
      "[2, 2, 4, 1, 10, 4, 2, 1, 8, 6, 3, 12]\n",
      "AJ is: 9\n",
      "AI is: -3\n",
      "[2, 2, 4, 1, 10, 4, 2, 1, 8, 6, 3, 12, 3, 6]\n",
      "[2, 2, 4, 1, 10, 4, 2, 1, 8, 6, 3, 12, 3, 6, 9]\n"
     ]
    },
    {
     "data": {
      "text/plain": [
       "1"
      ]
     },
     "execution_count": 94,
     "metadata": {},
     "output_type": "execute_result"
    }
   ],
   "source": [
    "#Find minimum slice sum \n",
    "def solution(A):\n",
    "    # write your code in Python 2.7 \n",
    "    sum_slices = [] \n",
    "    for i in range(0,len(A)):  \n",
    "        sum_slices.append(abs(A[i]))\n",
    "        sum = A[i]\n",
    "        #sum_slices.append(abs(A[i]))\n",
    "        for j in range(i+1,len(A)):\n",
    "            sum =  sum + A[j]   \n",
    "            print 'AJ is: ' + str(A[j])\n",
    "            print 'AI is: ' + str(A[i]) \n",
    "            #sum_slices.append(abs(sum))\n",
    "            abs_sum = abs(sum) \n",
    "            sum_slices.append(abs_sum)\n",
    "        print sum_slices\n",
    "    \n",
    "    #print sum_slices #S\n",
    "    return min(sum_slices)\n",
    "\n",
    "A= [2,-4,6,-3,9]\n",
    "#A = [1,1] \n",
    "\n",
    "#A = [2,4,6]   # Expected [2,6,12,4,10,6]\n",
    "solution(A)"
   ]
  },
  {
   "cell_type": "code",
   "execution_count": 102,
   "metadata": {
    "collapsed": false
   },
   "outputs": [
    {
     "data": {
      "text/plain": [
       "[2, 6, 4, 10]"
      ]
     },
     "execution_count": 102,
     "metadata": {},
     "output_type": "execute_result"
    }
   ],
   "source": [
    "def solution(A):\n",
    "    sum_slices = [] \n",
    "    \n",
    "    for i in range(0,len(A)-1):  \n",
    "        sum_slices.append(abs(A[i]))  \n",
    "        prev_slice = A[i]\n",
    "        this_slice = prev_slice + A[i+1]\n",
    "        prev_slice = this_slice\n",
    "        sum_slices.append(abs(this_slice))\n",
    "    return sum_slices \n",
    "\n",
    "A = [2,4,6]    #Expected answer [2,6,12,4,10,6]\n",
    "solution(A)"
   ]
  },
  {
   "cell_type": "code",
   "execution_count": 125,
   "metadata": {
    "collapsed": false
   },
   "outputs": [
    {
     "data": {
      "text/plain": [
       "1"
      ]
     },
     "execution_count": 125,
     "metadata": {},
     "output_type": "execute_result"
    }
   ],
   "source": [
    "# // you can write to stdout for debugging purposes, e.g.\n",
    "# // printf(\"this is a debug message\\n\"); \n",
    "# Length of Linked List in C  \n",
    "\n",
    "# int solution(struct IntList * L) {\n",
    "# #     // write your code in C99 (gcc 6.2.0)\n",
    "    \n",
    "#     struct IntList *temp = L;\n",
    "#     int count = 0;\n",
    "#     while (temp!=NULL)\n",
    "#     { \n",
    "#         count++;\n",
    "#         temp = temp->next;\n",
    "#     }\n",
    "#     return count; \n",
    "# }\n",
    "\n",
    "#Python\n",
    "class IntList(object):\n",
    "    def __init__(self, data=None, next=None):\n",
    "        self.data = data\n",
    "        self.next = next\n",
    "   \n",
    "    def get_data(self):\n",
    "        return self.data\n",
    "\n",
    "    def get_next(self):\n",
    "        return self.next\n",
    "\n",
    "    def set_next(self, new_next):\n",
    "        self.next = new_next\n",
    "\n",
    "    def insert(self, data):\n",
    "        new_node = IntList(data)\n",
    "        new_node.set_next(self)\n",
    "        self = new_node\n",
    "#     val = 0\n",
    "#     next = None \n",
    "    \n",
    "def solution(L):\n",
    "    # write your code in Python 2.7\n",
    "    temp=L\n",
    "    count=0\n",
    "    while(temp):\n",
    "        count= count + 1 \n",
    "        temp=temp.next\n",
    "    return count \n",
    "\n",
    "A = IntList()\n",
    "A.insert(2)\n",
    "A.insert(10)\n",
    "#A.insert(8)\n",
    "solution(A)"
   ]
  },
  {
   "cell_type": "code",
   "execution_count": 2,
   "metadata": {
    "collapsed": false
   },
   "outputs": [
    {
     "ename": "AttributeError",
     "evalue": "'list' object has no attribute 'tolist'",
     "output_type": "error",
     "traceback": [
      "\u001b[0;31m---------------------------------------------------------------------------\u001b[0m",
      "\u001b[0;31mAttributeError\u001b[0m                            Traceback (most recent call last)",
      "\u001b[0;32m<ipython-input-2-1be198ddc5fb>\u001b[0m in \u001b[0;36m<module>\u001b[0;34m()\u001b[0m\n\u001b[1;32m      1\u001b[0m \u001b[0mdata\u001b[0m \u001b[0;34m=\u001b[0m \u001b[0;34m[\u001b[0m\u001b[0mNone\u001b[0m\u001b[0;34m,\u001b[0m \u001b[0;36m10\u001b[0m\u001b[0;34m,\u001b[0m \u001b[0;36m15\u001b[0m\u001b[0;34m]\u001b[0m\u001b[0;34m\u001b[0m\u001b[0m\n\u001b[0;32m----> 2\u001b[0;31m \u001b[0mdata\u001b[0m\u001b[0;34m.\u001b[0m\u001b[0mtolist\u001b[0m\u001b[0;34m(\u001b[0m\u001b[0;34m)\u001b[0m\u001b[0;34m\u001b[0m\u001b[0m\n\u001b[0m",
      "\u001b[0;31mAttributeError\u001b[0m: 'list' object has no attribute 'tolist'"
     ]
    }
   ],
   "source": [
    "data = [None, 10, 15]\n",
    "data.tolist()"
   ]
  },
  {
   "cell_type": "code",
   "execution_count": 8,
   "metadata": {
    "collapsed": false
   },
   "outputs": [
    {
     "ename": "ConnectionError",
     "evalue": "ConnectionError(<urllib3.connection.HTTPConnection object at 0x1043f3d90>: Failed to establish a new connection: [Errno 61] Connection refused) caused by: NewConnectionError(<urllib3.connection.HTTPConnection object at 0x1043f3d90>: Failed to establish a new connection: [Errno 61] Connection refused)",
     "output_type": "error",
     "traceback": [
      "\u001b[0;31m---------------------------------------------------------------------------\u001b[0m",
      "\u001b[0;31mConnectionError\u001b[0m                           Traceback (most recent call last)",
      "\u001b[0;32m<ipython-input-8-e073dafae8dd>\u001b[0m in \u001b[0;36m<module>\u001b[0;34m()\u001b[0m\n\u001b[1;32m      7\u001b[0m     \u001b[0;34m'text'\u001b[0m\u001b[0;34m:\u001b[0m \u001b[0;34m'Elasticsearch: cool. bonsai cool.'\u001b[0m\u001b[0;34m\u001b[0m\u001b[0m\n\u001b[1;32m      8\u001b[0m }\n\u001b[0;32m----> 9\u001b[0;31m \u001b[0mres\u001b[0m \u001b[0;34m=\u001b[0m \u001b[0mes\u001b[0m\u001b[0;34m.\u001b[0m\u001b[0mindex\u001b[0m\u001b[0;34m(\u001b[0m\u001b[0mindex\u001b[0m\u001b[0;34m=\u001b[0m\u001b[0;34m\"test-index\"\u001b[0m\u001b[0;34m,\u001b[0m \u001b[0mdoc_type\u001b[0m\u001b[0;34m=\u001b[0m\u001b[0;34m'tweet'\u001b[0m\u001b[0;34m,\u001b[0m \u001b[0mid\u001b[0m\u001b[0;34m=\u001b[0m\u001b[0;36m1\u001b[0m\u001b[0;34m,\u001b[0m \u001b[0mbody\u001b[0m\u001b[0;34m=\u001b[0m\u001b[0mdoc\u001b[0m\u001b[0;34m)\u001b[0m\u001b[0;34m\u001b[0m\u001b[0m\n\u001b[0m\u001b[1;32m     10\u001b[0m \u001b[0;32mprint\u001b[0m\u001b[0;34m(\u001b[0m\u001b[0mres\u001b[0m\u001b[0;34m)\u001b[0m\u001b[0;34m\u001b[0m\u001b[0m\n\u001b[1;32m     11\u001b[0m \u001b[0;34m\u001b[0m\u001b[0m\n",
      "\u001b[0;32m/Users/sanketgupta/anaconda/lib/python2.7/site-packages/elasticsearch/client/utils.pyc\u001b[0m in \u001b[0;36m_wrapped\u001b[0;34m(*args, **kwargs)\u001b[0m\n\u001b[1;32m     67\u001b[0m                 \u001b[0;32mif\u001b[0m \u001b[0mp\u001b[0m \u001b[0;32min\u001b[0m \u001b[0mkwargs\u001b[0m\u001b[0;34m:\u001b[0m\u001b[0;34m\u001b[0m\u001b[0m\n\u001b[1;32m     68\u001b[0m                     \u001b[0mparams\u001b[0m\u001b[0;34m[\u001b[0m\u001b[0mp\u001b[0m\u001b[0;34m]\u001b[0m \u001b[0;34m=\u001b[0m \u001b[0mkwargs\u001b[0m\u001b[0;34m.\u001b[0m\u001b[0mpop\u001b[0m\u001b[0;34m(\u001b[0m\u001b[0mp\u001b[0m\u001b[0;34m)\u001b[0m\u001b[0;34m\u001b[0m\u001b[0m\n\u001b[0;32m---> 69\u001b[0;31m             \u001b[0;32mreturn\u001b[0m \u001b[0mfunc\u001b[0m\u001b[0;34m(\u001b[0m\u001b[0;34m*\u001b[0m\u001b[0margs\u001b[0m\u001b[0;34m,\u001b[0m \u001b[0mparams\u001b[0m\u001b[0;34m=\u001b[0m\u001b[0mparams\u001b[0m\u001b[0;34m,\u001b[0m \u001b[0;34m**\u001b[0m\u001b[0mkwargs\u001b[0m\u001b[0;34m)\u001b[0m\u001b[0;34m\u001b[0m\u001b[0m\n\u001b[0m\u001b[1;32m     70\u001b[0m         \u001b[0;32mreturn\u001b[0m \u001b[0m_wrapped\u001b[0m\u001b[0;34m\u001b[0m\u001b[0m\n\u001b[1;32m     71\u001b[0m     \u001b[0;32mreturn\u001b[0m \u001b[0m_wrapper\u001b[0m\u001b[0;34m\u001b[0m\u001b[0m\n",
      "\u001b[0;32m/Users/sanketgupta/anaconda/lib/python2.7/site-packages/elasticsearch/client/__init__.pyc\u001b[0m in \u001b[0;36mindex\u001b[0;34m(self, index, doc_type, body, id, params)\u001b[0m\n\u001b[1;32m    277\u001b[0m                 \u001b[0;32mraise\u001b[0m \u001b[0mValueError\u001b[0m\u001b[0;34m(\u001b[0m\u001b[0;34m\"Empty value passed for a required argument.\"\u001b[0m\u001b[0;34m)\u001b[0m\u001b[0;34m\u001b[0m\u001b[0m\n\u001b[1;32m    278\u001b[0m         _, data = self.transport.perform_request('POST' if id in SKIP_IN_PATH else 'PUT',\n\u001b[0;32m--> 279\u001b[0;31m             _make_path(index, doc_type, id), params=params, body=body)\n\u001b[0m\u001b[1;32m    280\u001b[0m         \u001b[0;32mreturn\u001b[0m \u001b[0mdata\u001b[0m\u001b[0;34m\u001b[0m\u001b[0m\n\u001b[1;32m    281\u001b[0m \u001b[0;34m\u001b[0m\u001b[0m\n",
      "\u001b[0;32m/Users/sanketgupta/anaconda/lib/python2.7/site-packages/elasticsearch/transport.pyc\u001b[0m in \u001b[0;36mperform_request\u001b[0;34m(self, method, url, params, body)\u001b[0m\n\u001b[1;32m    327\u001b[0m \u001b[0;34m\u001b[0m\u001b[0m\n\u001b[1;32m    328\u001b[0m             \u001b[0;32mtry\u001b[0m\u001b[0;34m:\u001b[0m\u001b[0;34m\u001b[0m\u001b[0m\n\u001b[0;32m--> 329\u001b[0;31m                 \u001b[0mstatus\u001b[0m\u001b[0;34m,\u001b[0m \u001b[0mheaders\u001b[0m\u001b[0;34m,\u001b[0m \u001b[0mdata\u001b[0m \u001b[0;34m=\u001b[0m \u001b[0mconnection\u001b[0m\u001b[0;34m.\u001b[0m\u001b[0mperform_request\u001b[0m\u001b[0;34m(\u001b[0m\u001b[0mmethod\u001b[0m\u001b[0;34m,\u001b[0m \u001b[0murl\u001b[0m\u001b[0;34m,\u001b[0m \u001b[0mparams\u001b[0m\u001b[0;34m,\u001b[0m \u001b[0mbody\u001b[0m\u001b[0;34m,\u001b[0m \u001b[0mignore\u001b[0m\u001b[0;34m=\u001b[0m\u001b[0mignore\u001b[0m\u001b[0;34m,\u001b[0m \u001b[0mtimeout\u001b[0m\u001b[0;34m=\u001b[0m\u001b[0mtimeout\u001b[0m\u001b[0;34m)\u001b[0m\u001b[0;34m\u001b[0m\u001b[0m\n\u001b[0m\u001b[1;32m    330\u001b[0m \u001b[0;34m\u001b[0m\u001b[0m\n\u001b[1;32m    331\u001b[0m             \u001b[0;32mexcept\u001b[0m \u001b[0mTransportError\u001b[0m \u001b[0;32mas\u001b[0m \u001b[0me\u001b[0m\u001b[0;34m:\u001b[0m\u001b[0;34m\u001b[0m\u001b[0m\n",
      "\u001b[0;32m/Users/sanketgupta/anaconda/lib/python2.7/site-packages/elasticsearch/connection/http_urllib3.pyc\u001b[0m in \u001b[0;36mperform_request\u001b[0;34m(self, method, url, params, body, timeout, ignore)\u001b[0m\n\u001b[1;32m    103\u001b[0m         \u001b[0;32mexcept\u001b[0m \u001b[0mException\u001b[0m \u001b[0;32mas\u001b[0m \u001b[0me\u001b[0m\u001b[0;34m:\u001b[0m\u001b[0;34m\u001b[0m\u001b[0m\n\u001b[1;32m    104\u001b[0m             \u001b[0mself\u001b[0m\u001b[0;34m.\u001b[0m\u001b[0mlog_request_fail\u001b[0m\u001b[0;34m(\u001b[0m\u001b[0mmethod\u001b[0m\u001b[0;34m,\u001b[0m \u001b[0mfull_url\u001b[0m\u001b[0;34m,\u001b[0m \u001b[0mbody\u001b[0m\u001b[0;34m,\u001b[0m \u001b[0mtime\u001b[0m\u001b[0;34m.\u001b[0m\u001b[0mtime\u001b[0m\u001b[0;34m(\u001b[0m\u001b[0;34m)\u001b[0m \u001b[0;34m-\u001b[0m \u001b[0mstart\u001b[0m\u001b[0;34m,\u001b[0m \u001b[0mexception\u001b[0m\u001b[0;34m=\u001b[0m\u001b[0me\u001b[0m\u001b[0;34m)\u001b[0m\u001b[0;34m\u001b[0m\u001b[0m\n\u001b[0;32m--> 105\u001b[0;31m             \u001b[0;32mraise\u001b[0m \u001b[0mConnectionError\u001b[0m\u001b[0;34m(\u001b[0m\u001b[0;34m'N/A'\u001b[0m\u001b[0;34m,\u001b[0m \u001b[0mstr\u001b[0m\u001b[0;34m(\u001b[0m\u001b[0me\u001b[0m\u001b[0;34m)\u001b[0m\u001b[0;34m,\u001b[0m \u001b[0me\u001b[0m\u001b[0;34m)\u001b[0m\u001b[0;34m\u001b[0m\u001b[0m\n\u001b[0m\u001b[1;32m    106\u001b[0m \u001b[0;34m\u001b[0m\u001b[0m\n\u001b[1;32m    107\u001b[0m         \u001b[0;32mif\u001b[0m \u001b[0;32mnot\u001b[0m \u001b[0;34m(\u001b[0m\u001b[0;36m200\u001b[0m \u001b[0;34m<=\u001b[0m \u001b[0mresponse\u001b[0m\u001b[0;34m.\u001b[0m\u001b[0mstatus\u001b[0m \u001b[0;34m<\u001b[0m \u001b[0;36m300\u001b[0m\u001b[0;34m)\u001b[0m \u001b[0;32mand\u001b[0m \u001b[0mresponse\u001b[0m\u001b[0;34m.\u001b[0m\u001b[0mstatus\u001b[0m \u001b[0;32mnot\u001b[0m \u001b[0;32min\u001b[0m \u001b[0mignore\u001b[0m\u001b[0;34m:\u001b[0m\u001b[0;34m\u001b[0m\u001b[0m\n",
      "\u001b[0;31mConnectionError\u001b[0m: ConnectionError(<urllib3.connection.HTTPConnection object at 0x1043f3d90>: Failed to establish a new connection: [Errno 61] Connection refused) caused by: NewConnectionError(<urllib3.connection.HTTPConnection object at 0x1043f3d90>: Failed to establish a new connection: [Errno 61] Connection refused)"
     ]
    }
   ],
   "source": [
    "from datetime import datetime\n",
    "from elasticsearch import Elasticsearch\n",
    "es = Elasticsearch()\n",
    "\n",
    "doc = {\n",
    "    'author': 'kimchy',\n",
    "    'text': 'Elasticsearch: cool. bonsai cool.'\n",
    "}\n",
    "res = es.index(index=\"test-index\", doc_type='tweet', id=1, body=doc)\n",
    "print(res) \n",
    "\n"
   ]
  },
  {
   "cell_type": "code",
   "execution_count": 12,
   "metadata": {
    "collapsed": false
   },
   "outputs": [
    {
     "name": "stdout",
     "output_type": "stream",
     "text": [
      "My docstring is both funny and informative\n"
     ]
    }
   ],
   "source": [
    "#Understanding docstring\n",
    "def my_func():\n",
    "    \"\"\"My docstring is both funny and informative\"\"\"\n",
    "    pass \n",
    "\n",
    "#print help(my_func)\n",
    "print my_func.__doc__ "
   ]
  },
  {
   "cell_type": "code",
   "execution_count": 13,
   "metadata": {
    "collapsed": false
   },
   "outputs": [
    {
     "name": "stdout",
     "output_type": "stream",
     "text": [
      "5\n"
     ]
    }
   ],
   "source": [
    "class NumberGenerator: \n",
    "    def __init__(self,number): \n",
    "        self.number = number\n",
    "        self.numbergenerator() \n",
    "    def numbergenerator(self): \n",
    "        print self.number + 3\n",
    "\n",
    "newobject = NumberGenerator(2)"
   ]
  },
  {
   "cell_type": "code",
   "execution_count": 14,
   "metadata": {
    "collapsed": false
   },
   "outputs": [
    {
     "ename": "SyntaxError",
     "evalue": "invalid syntax (<ipython-input-14-61a3d8c62ad1>, line 12)",
     "output_type": "error",
     "traceback": [
      "\u001b[0;36m  File \u001b[0;32m\"<ipython-input-14-61a3d8c62ad1>\"\u001b[0;36m, line \u001b[0;32m12\u001b[0m\n\u001b[0;31m    [a,a,s,d],[f,b,a,s], d,f]\u001b[0m\n\u001b[0m                            ^\u001b[0m\n\u001b[0;31mSyntaxError\u001b[0m\u001b[0;31m:\u001b[0m invalid syntax\n"
     ]
    }
   ],
   "source": [
    "Aasdf\n",
    "Basdf\n",
    "Cxvbkjhk\n",
    "Dert\n",
    "Ecxvb\n",
    "Fcxvb\n",
    "Gert\n",
    "Hert\n",
    "Ixcv\n",
    "\n",
    "\n",
    "[a,a,s,d],[f,b,a,s], d,f]\n",
    "[aasd,asdf]\n",
    "[basd,asdf]\n",
    "[cxvb]\n",
    "[dert]\n",
    "\n",
    "for item in list:\n",
    "    four_gram = []\n",
    "    item_split = item.split()\n",
    "  count = 0\n",
    "  for val in item_split:\n",
    "        while count < 4:\n",
    "        four_gram.append(val)\n",
    "        count = count + 1\n",
    "\n",
    "anagrams\n",
    "\n",
    "badcredit\n",
    "debitcard\n",
    "\n",
    "\n",
    "[lkasjf, badcredit, aslkdjf, lasjdfl, asldfj, lkjasdfklj, asldfjk, debitcard]\n",
    "[lives, elvis, levis]\n",
    "length_item = []\n",
    "for item in list:\n",
    "    length_item.append(len(item))\n",
    "\n",
    "#Create a dictionary with key value pairs, keys being length and values being list of items\n",
    "for index,item in length_item.iteritems():\n",
    "  dictionary_anagrams = dict(item,list[index])\n",
    "\n",
    "#Loop through each key value pair and then break each item in dictionary into alphabets\n",
    "\n",
    "for key,value in dictionary_anagrams.enumerate():\n",
    "        for item in value:\n",
    "            alphabets = item.split()\n",
    "        for i in range(len(alphabets)):\n",
    "                count = 0\n",
    "                for j in range(len(alphabets)):\n",
    "                        if alphabets[i] == alphabets[j]:\n",
    "                        count = count + 1\n",
    "                    delete alphabets[j]\n",
    "            count_alphabet.append(count)\n",
    "\n",
    "\n",
    "\n",
    "for key,value in dictionary_anagrams.enumerate():\n",
    "        #If lengths of two words match, go to the next step which is alphabet matching written above\n",
    "        if length_item[key] ==\n",
    "\n",
    "[[babdcreditb, debitcardb], ]\n",
    "\n"
   ]
  },
  {
   "cell_type": "code",
   "execution_count": 17,
   "metadata": {
    "collapsed": false
   },
   "outputs": [
    {
     "name": "stdout",
     "output_type": "stream",
     "text": [
      "From iseven function 11\n",
      "From main function 10\n"
     ]
    }
   ],
   "source": [
    "def yo(): \n",
    "    num1 = 10  \n",
    "    isEven(num1)\n",
    "    print \"From main function\", num1    #Gives 10 \n",
    "def isEven(num1):   \n",
    "    num1 = num1 + 1  \n",
    "    print \"From iseven function\", num1  #Gives 11\n",
    "\n",
    "num1 = yo() \n",
    "\n",
    "#print num1   #Gives error"
   ]
  },
  {
   "cell_type": "code",
   "execution_count": 4,
   "metadata": {
    "collapsed": false
   },
   "outputs": [
    {
     "name": "stdout",
     "output_type": "stream",
     "text": [
      "'{\"status\":\"ok\",\"source\":\"google-news\",\"sortBy\":\"top\",\"articles\":[{\"author\":\"Jen Christensen, CNN\",\"title\":\"Medical, science research faces cuts under Trump budget\",\"description\":\"President Donald Trump\\'s proposed budget suggests huge cuts for science and medical agencies, while boosting programs that fight the opioid epidemic and help mental health.\",\"url\":\"http://www.cnn.com/2017/03/16/health/trump-budget-medical-science-huge-cuts/\",\"urlToImage\":\"http://i2.cdn.cnn.com/cnnnext/dam/assets/170315203221-02-trump-nashville-0315-super-tease.jpg\",\"publishedAt\":\"2017-03-16T20:41:34Z\"},{\"author\":\"https://www.facebook.com/aaronblakewp?fref=ts\",\"title\":\"Analysis | Sean Spicer\\xe2\\x80\\x99s angry, lonely defense of Trump\\xe2\\x80\\x99s wiretapping claim, annotated\",\"description\":\"Spicer Island grows more isolated.\",\"url\":\"https://www.washingtonpost.com/news/the-fix/wp/2017/03/16/sean-spicers-angry-lonely-defense-of-trumps-wiretapping-claim-annotated/\",\"urlToImage\":\"https://img.washingtonpost.com/rf/image_1484w/2010-2019/Wires/Images/2017-03-16/AP/Trump_68367-8338b.jpg\",\"publishedAt\":\"2017-03-16T10:31:00Z\"},{\"author\":\"Laura Jarrett, CNN\",\"title\":\"Trump admin to appeal travel ban rulings \\'soon\\'\",\"description\":\"White House press secretary Sean Spicer confirmed that the Trump admin plans to appeal rulings from two federal judges that have blocked the revised travel ban.\",\"url\":\"http://www.cnn.com/2017/03/15/politics/travel-ban-blocked/\",\"urlToImage\":\"http://i2.cdn.cnn.com/cnnnext/dam/assets/170315203439-05-donald-trump-rally-super-tease.jpg\",\"publishedAt\":\"2017-03-16T20:26:36Z\"},{\"author\":\"https://www.facebook.com/PostRoz, https://www.facebook.com/tom.hamburger\",\"title\":\"Trump adviser Flynn paid by multiple Russia-related entities, new records show\",\"description\":\"House Oversight Committee records show the former national security adviser collected nearly $68,000 in 2015.\",\"url\":\"https://www.washingtonpost.com/politics/new-details-released-on-russia-related-payments-to-flynn-before-he-joined-trump-campaign/2017/03/16/52a4205a-0a55-11e7-a15f-a58d4a988474_story.html\",\"urlToImage\":\"https://img.washingtonpost.com/rf/image_1484w/2010-2019/WashingtonPost/2017/03/02/Others/Images/2017-03-02/AP_17045804138589.JPG\",\"publishedAt\":\"2017-03-16T06:20:00Z\"},{\"author\":\"Billy House,Anna Edgerton,Sahil Kapur\",\"title\":\"Ryan Clings to Core of GOP Health Bill as Opposition Mounts\",\"description\":\"House Speaker Paul Ryan has told senior Republicans that he won\\xe2\\x80\\x99t change the main pillars of his plan to repeal and partially replace Obamacare, even as Republicans search for tweaks that can break their logjam over the legislation.\",\"url\":\"https://www.bloomberg.com/politics/articles/2017-03-16/ryan-clings-to-core-of-gop-obamacare-bill-as-opposition-mounts\",\"urlToImage\":\"https://assets.bwbx.io/images/users/iqjWHBFdfxIU/iPEEU1HvUFc8/v0/1200x828.jpg\",\"publishedAt\":\"2017-03-16T19:38:35.79Z\"},{\"author\":null,\"title\":\"Analysis | As Dutch vote splinters, Greens rise with youthful leader\",\"description\":\"Jesse Klaver, leader of the Dutch Green Left Party, is the preferred pick of those seeking an alternative to an increasingly mainstream nationalist message.\",\"url\":\"https://www.washingtonpost.com/news/worldviews/wp/2017/03/16/as-dutch-vote-splinters-greens-rise-with-youthful-leader/\",\"urlToImage\":\"https://img.washingtonpost.com/rf/image_1484w/2010-2019/WashingtonPost/2017/03/16/Foreign/Images/2017-03-16T134230Z_931379809_RC1BDFE45AF0_RTRMADP_3_NETHERLANDS-ELECTION.jpg\",\"publishedAt\":\"2017-03-16T06:13:00Z\"},{\"author\":\"Elaine Lies and Kiyoshi Takenaka\",\"title\":\"Tillerson urges \\'new approach\\' to North Korea, gives no details\",\"description\":\"The escalating threat from North Korea\\'s nuclear program shows a clear need for a \\\\\"new approach,\\\\\" U.S. Secretary of State Rex Tillerson said on Thursday, although he did not say what the Trump administration planned.\",\"url\":\"http://www.reuters.com/article/us-tillerson-asia-japan-idUSKBN16M3AN\",\"urlToImage\":\"http://s2.reutersmedia.net/resources/r/?m=02&d=20170316&t=2&i=1176759305&w=&fh=545px&fw=&ll=&pl=&sq=&r=LYNXMPED2F0AB\",\"publishedAt\":\"2017-03-16T16:02:51Z\"},{\"author\":\"Howard Kurtz\",\"title\":\"Hype Watch: Rachel Maddow\\'s titanic Trump tax touting ends badly\",\"description\":\"What was touted as a very big night for Rachel Maddow ended up with a massive misfire.\",\"url\":\"http://www.foxnews.com/politics/2017/03/16/hype-watch-rachel-maddows-titanic-trump-tax-touting-ends-badly.html\",\"urlToImage\":\"http://a57.foxnews.com/media2.foxnews.com/BrightCove/694940094001/2017/03/15/0/0/694940094001_5360810289001_5360778610001-vs.jpg?ve=1\",\"publishedAt\":\"0001-01-01T00:00:00Z\"},{\"author\":\"Madison Park and Andy Rose, CNN\",\"title\":\"Trudeau hosts Ivanka Trump at Broadway show about Canadian hospitality\",\"description\":\"At a Broadway show about welcoming people during a time of need, Canadian Prime Minister Justin Trudeau hosted Ivanka Trump as his guest of honor.\",\"url\":\"http://www.cnn.com/2017/03/16/politics/trudeau-ivanka-trump-trnd/\",\"urlToImage\":\"http://i2.cdn.cnn.com/cnnnext/dam/assets/170316095908-01-justin-trudeau-come-from-away-super-tease.jpg\",\"publishedAt\":\"2017-03-16T12:37:50Z\"},{\"author\":\"https://www.facebook.com/bbcnews\",\"title\":\"Mount Etna: BBC crew caught up in volcano blast - BBC News\",\"description\":\"Volcano watchers suffer cuts, bruises and burns as an explosion pelts them with hot rocks and steam.\",\"url\":\"http://www.bbc.com/news/world-europe-39293086\",\"urlToImage\":\"http://ichef.bbci.co.uk/news/1024/cpsprodpb/1741A/production/_95185259_mediaitem95184155.jpg\",\"publishedAt\":\"2017-03-16T17:13:14Z\"}]}'\n"
     ]
    }
   ],
   "source": [
    "#e4019fef9dc34a13af20d8db2be8949f\n",
    "#url = \"https://newsapi.org/v1/articles?source=techcrunch&apiKey=e4019fef9dc34a13af20d8db2be8949f\"\n",
    "url = \"https://newsapi.org/v1/articles?source=google-news&sortBy=top&apiKey=e4019fef9dc34a13af20d8db2be8949f\"   \n",
    "import urllib2\n",
    "from pprint import pprint\n",
    "pprint(urllib2.urlopen(url).read())"
   ]
  },
  {
   "cell_type": "code",
   "execution_count": 20,
   "metadata": {
    "collapsed": false
   },
   "outputs": [
    {
     "name": "stdout",
     "output_type": "stream",
     "text": [
      "{u'response': {u'currentPage': 1,\n",
      "               u'orderBy': u'relevance',\n",
      "               u'pageSize': 10,\n",
      "               u'pages': 3343,\n",
      "               u'results': [{u'apiUrl': u'https://content.guardianapis.com/tv-and-radio/2017/jan/29/sundays-best-tv-homeland-apple-tree-yard',\n",
      "                             u'id': u'tv-and-radio/2017/jan/29/sundays-best-tv-homeland-apple-tree-yard',\n",
      "                             u'isHosted': False,\n",
      "                             u'sectionId': u'tv-and-radio',\n",
      "                             u'sectionName': u'Television & radio',\n",
      "                             u'type': u'article',\n",
      "                             u'webPublicationDate': u'2017-01-29T06:00:16Z',\n",
      "                             u'webTitle': u\"Sunday's best TV: Homeland; Apple Tree Yard\",\n",
      "                             u'webUrl': u'https://www.theguardian.com/tv-and-radio/2017/jan/29/sundays-best-tv-homeland-apple-tree-yard'},\n",
      "                            {u'apiUrl': u'https://content.guardianapis.com/business/marketforceslive/2016/dec/06/apple-supplier-imagination-technologies-jumps-after-restructuring',\n",
      "                             u'id': u'business/marketforceslive/2016/dec/06/apple-supplier-imagination-technologies-jumps-after-restructuring',\n",
      "                             u'isHosted': False,\n",
      "                             u'sectionId': u'business',\n",
      "                             u'sectionName': u'Business',\n",
      "                             u'type': u'article',\n",
      "                             u'webPublicationDate': u'2016-12-06T11:19:25Z',\n",
      "                             u'webTitle': u'Apple supplier Imagination Technologies jumps after restructuring',\n",
      "                             u'webUrl': u'https://www.theguardian.com/business/marketforceslive/2016/dec/06/apple-supplier-imagination-technologies-jumps-after-restructuring'},\n",
      "                            {u'apiUrl': u'https://content.guardianapis.com/technology/2016/nov/22/iphone-prank-video-apple-smartphones-crash-bug-miaopai',\n",
      "                             u'id': u'technology/2016/nov/22/iphone-prank-video-apple-smartphones-crash-bug-miaopai',\n",
      "                             u'isHosted': False,\n",
      "                             u'sectionId': u'technology',\n",
      "                             u'sectionName': u'Technology',\n",
      "                             u'type': u'article',\n",
      "                             u'webPublicationDate': u'2016-11-22T09:57:41Z',\n",
      "                             u'webTitle': u\"iPhone 'prank' video crashes Apple smartphones\",\n",
      "                             u'webUrl': u'https://www.theguardian.com/technology/2016/nov/22/iphone-prank-video-apple-smartphones-crash-bug-miaopai'},\n",
      "                            {u'apiUrl': u'https://content.guardianapis.com/technology/2017/feb/24/apple-looking-into-video-of-exploding-iphone-7-plus',\n",
      "                             u'id': u'technology/2017/feb/24/apple-looking-into-video-of-exploding-iphone-7-plus',\n",
      "                             u'isHosted': False,\n",
      "                             u'sectionId': u'technology',\n",
      "                             u'sectionName': u'Technology',\n",
      "                             u'type': u'article',\n",
      "                             u'webPublicationDate': u'2017-02-24T10:01:17Z',\n",
      "                             u'webTitle': u'Apple looking into video of exploding iPhone 7 Plus',\n",
      "                             u'webUrl': u'https://www.theguardian.com/technology/2017/feb/24/apple-looking-into-video-of-exploding-iphone-7-plus'},\n",
      "                            {u'apiUrl': u'https://content.guardianapis.com/technology/2017/feb/15/apple-removing-iphone-home-button-fingerprint-scanning-screen',\n",
      "                             u'id': u'technology/2017/feb/15/apple-removing-iphone-home-button-fingerprint-scanning-screen',\n",
      "                             u'isHosted': False,\n",
      "                             u'sectionId': u'technology',\n",
      "                             u'sectionName': u'Technology',\n",
      "                             u'type': u'article',\n",
      "                             u'webPublicationDate': u'2017-02-15T11:40:22Z',\n",
      "                             u'webTitle': u'Apple may replace iPhone home button with fingerprint-scanning screen',\n",
      "                             u'webUrl': u'https://www.theguardian.com/technology/2017/feb/15/apple-removing-iphone-home-button-fingerprint-scanning-screen'},\n",
      "                            {u'apiUrl': u'https://content.guardianapis.com/business/2017/mar/08/john-lewis-uk-apple-watch-black-friday-online',\n",
      "                             u'id': u'business/2017/mar/08/john-lewis-uk-apple-watch-black-friday-online',\n",
      "                             u'isHosted': False,\n",
      "                             u'sectionId': u'business',\n",
      "                             u'sectionName': u'Business',\n",
      "                             u'type': u'article',\n",
      "                             u'webPublicationDate': u'2017-03-08T08:12:04Z',\n",
      "                             u'webTitle': u'John Lewis broke advertising rules by pulling Apple Watch deal',\n",
      "                             u'webUrl': u'https://www.theguardian.com/business/2017/mar/08/john-lewis-uk-apple-watch-black-friday-online'},\n",
      "                            {u'apiUrl': u'https://content.guardianapis.com/technology/2016/nov/23/apple-patent-flip-phone-iphone-oled-screen-clamshell-',\n",
      "                             u'id': u'technology/2016/nov/23/apple-patent-flip-phone-iphone-oled-screen-clamshell-',\n",
      "                             u'isHosted': False,\n",
      "                             u'sectionId': u'technology',\n",
      "                             u'sectionName': u'Technology',\n",
      "                             u'type': u'article',\n",
      "                             u'webPublicationDate': u'2016-11-23T12:18:04Z',\n",
      "                             u'webTitle': u'Apple flips out with clamshell iPhone patent',\n",
      "                             u'webUrl': u'https://www.theguardian.com/technology/2016/nov/23/apple-patent-flip-phone-iphone-oled-screen-clamshell-'},\n",
      "                            {u'apiUrl': u'https://content.guardianapis.com/technology/2017/feb/26/apple-annual-meeting-pirc-bonuses-al-gore',\n",
      "                             u'id': u'technology/2017/feb/26/apple-annual-meeting-pirc-bonuses-al-gore',\n",
      "                             u'isHosted': False,\n",
      "                             u'sectionId': u'technology',\n",
      "                             u'sectionName': u'Technology',\n",
      "                             u'type': u'article',\n",
      "                             u'webPublicationDate': u'2017-02-26T07:00:23Z',\n",
      "                             u'webTitle': u'Will Pirc squeeze Apple until the pips squeak?',\n",
      "                             u'webUrl': u'https://www.theguardian.com/technology/2017/feb/26/apple-annual-meeting-pirc-bonuses-al-gore'},\n",
      "                            {u'apiUrl': u'https://content.guardianapis.com/technology/2017/jan/17/apple-ios-mac-app-store-prices-rise-25-per-cent-following-brexit',\n",
      "                             u'id': u'technology/2017/jan/17/apple-ios-mac-app-store-prices-rise-25-per-cent-following-brexit',\n",
      "                             u'isHosted': False,\n",
      "                             u'sectionId': u'technology',\n",
      "                             u'sectionName': u'Technology',\n",
      "                             u'type': u'article',\n",
      "                             u'webPublicationDate': u'2017-01-17T10:31:05Z',\n",
      "                             u'webTitle': u'Apple increases App Store prices by 25% following Brexit vote',\n",
      "                             u'webUrl': u'https://www.theguardian.com/technology/2017/jan/17/apple-ios-mac-app-store-prices-rise-25-per-cent-following-brexit'},\n",
      "                            {u'apiUrl': u'https://content.guardianapis.com/technology/2016/oct/12/amazon-music-unlimited-launch-spotify-apple-streaming-competitor-echo',\n",
      "                             u'id': u'technology/2016/oct/12/amazon-music-unlimited-launch-spotify-apple-streaming-competitor-echo',\n",
      "                             u'isHosted': False,\n",
      "                             u'sectionId': u'technology',\n",
      "                             u'sectionName': u'Technology',\n",
      "                             u'type': u'article',\n",
      "                             u'webPublicationDate': u'2016-10-12T10:55:24Z',\n",
      "                             u'webTitle': u'Amazon launches Spotify and Apple Music competitor',\n",
      "                             u'webUrl': u'https://www.theguardian.com/technology/2016/oct/12/amazon-music-unlimited-launch-spotify-apple-streaming-competitor-echo'}],\n",
      "               u'startIndex': 1,\n",
      "               u'status': u'ok',\n",
      "               u'total': 33422,\n",
      "               u'userTier': u'developer'}}\n"
     ]
    }
   ],
   "source": [
    "url = \"https://content.guardianapis.com/search?q=Apple&api-key=7d3e8179-b64d-4513-8bff-472bb5248548\"   \n",
    "#url = \"https://www.theguardian.com/tv-and-radio/2017/jan/29/sundays-best-tv-homeland-apple-tree-yard\"\n",
    "import urllib2, json\n",
    "from pprint import pprint\n",
    "response = urllib2.urlopen(url)\n",
    "data = json.loads(response.read())\n",
    "pprint (data)\n",
    "\n"
   ]
  },
  {
   "cell_type": "code",
   "execution_count": 44,
   "metadata": {
    "collapsed": false
   },
   "outputs": [
    {
     "name": "stdout",
     "output_type": "stream",
     "text": [
      "['the', 'cat', 'sat', 'on', 'my', 'face']\n",
      "set(['on', 'dog', 'bed', 'cat', 'the', 'face', 'my', 'sat'])\n",
      "{'on': 1, 'sat': 1, 'the': 1, 'face': 1, 'my': 1, 'dog': 0, 'bed': 0, 'cat': 1}\n"
     ]
    },
    {
     "data": {
      "text/html": [
       "<div>\n",
       "<table border=\"1\" class=\"dataframe\">\n",
       "  <thead>\n",
       "    <tr style=\"text-align: right;\">\n",
       "      <th></th>\n",
       "      <th>bed</th>\n",
       "      <th>cat</th>\n",
       "      <th>dog</th>\n",
       "      <th>face</th>\n",
       "      <th>my</th>\n",
       "      <th>on</th>\n",
       "      <th>sat</th>\n",
       "      <th>the</th>\n",
       "    </tr>\n",
       "  </thead>\n",
       "  <tbody>\n",
       "    <tr>\n",
       "      <th>0</th>\n",
       "      <td>0</td>\n",
       "      <td>1</td>\n",
       "      <td>0</td>\n",
       "      <td>1</td>\n",
       "      <td>1</td>\n",
       "      <td>1</td>\n",
       "      <td>1</td>\n",
       "      <td>1</td>\n",
       "    </tr>\n",
       "    <tr>\n",
       "      <th>1</th>\n",
       "      <td>1</td>\n",
       "      <td>0</td>\n",
       "      <td>1</td>\n",
       "      <td>0</td>\n",
       "      <td>1</td>\n",
       "      <td>1</td>\n",
       "      <td>1</td>\n",
       "      <td>1</td>\n",
       "    </tr>\n",
       "  </tbody>\n",
       "</table>\n",
       "</div>"
      ],
      "text/plain": [
       "   bed  cat  dog  face  my  on  sat  the\n",
       "0    0    1    0     1   1   1    1    1\n",
       "1    1    0    1     0   1   1    1    1"
      ]
     },
     "execution_count": 44,
     "metadata": {},
     "output_type": "execute_result"
    }
   ],
   "source": [
    "import pandas as pd \n",
    "from pandas import DataFrame \n",
    "\n",
    "docA = \"the cat sat on my face\" \n",
    "docB = \"the dog sat on my bed\" \n",
    "bowA = docA.split()\n",
    "bowB = docB.split()\n",
    "print bowA\n",
    "\n",
    "wordSet = set(bowA).union(set(bowB)) \n",
    "print wordSet \n",
    "\n",
    "wordDictA = dict.fromkeys(wordSet,0) \n",
    "wordDictB = dict.fromkeys(wordSet,0)  \n",
    "\n",
    "for word in bowA: \n",
    "    wordDictA[word] += 1 \n",
    "    \n",
    "for word in bowB: \n",
    "    wordDictB[word] += 1  \n",
    "\n",
    "print wordDictA   \n",
    "\n",
    "DataFrame([wordDictA,wordDictB]) \n",
    "\n",
    "#The problem with this so far is most common words appear in both and dont help much "
   ]
  },
  {
   "cell_type": "code",
   "execution_count": 45,
   "metadata": {
    "collapsed": false
   },
   "outputs": [
    {
     "name": "stdout",
     "output_type": "stream",
     "text": [
      "{'on': 0.16666666666666666, 'dog': 0.0, 'bed': 0.0, 'face': 0.16666666666666666, 'the': 0.16666666666666666, 'cat': 0.16666666666666666, 'my': 0.16666666666666666, 'sat': 0.16666666666666666} {'on': 0.16666666666666666, 'dog': 0.16666666666666666, 'bed': 0.16666666666666666, 'face': 0.0, 'the': 0.16666666666666666, 'cat': 0.0, 'my': 0.16666666666666666, 'sat': 0.16666666666666666}\n"
     ]
    },
    {
     "data": {
      "text/html": [
       "<div>\n",
       "<table border=\"1\" class=\"dataframe\">\n",
       "  <thead>\n",
       "    <tr style=\"text-align: right;\">\n",
       "      <th></th>\n",
       "      <th>bed</th>\n",
       "      <th>cat</th>\n",
       "      <th>dog</th>\n",
       "      <th>face</th>\n",
       "      <th>my</th>\n",
       "      <th>on</th>\n",
       "      <th>sat</th>\n",
       "      <th>the</th>\n",
       "    </tr>\n",
       "  </thead>\n",
       "  <tbody>\n",
       "    <tr>\n",
       "      <th>0</th>\n",
       "      <td>0.000000</td>\n",
       "      <td>0.115525</td>\n",
       "      <td>0.000000</td>\n",
       "      <td>0.115525</td>\n",
       "      <td>0.0</td>\n",
       "      <td>0.0</td>\n",
       "      <td>0.0</td>\n",
       "      <td>0.0</td>\n",
       "    </tr>\n",
       "    <tr>\n",
       "      <th>1</th>\n",
       "      <td>0.115525</td>\n",
       "      <td>0.000000</td>\n",
       "      <td>0.115525</td>\n",
       "      <td>0.000000</td>\n",
       "      <td>0.0</td>\n",
       "      <td>0.0</td>\n",
       "      <td>0.0</td>\n",
       "      <td>0.0</td>\n",
       "    </tr>\n",
       "  </tbody>\n",
       "</table>\n",
       "</div>"
      ],
      "text/plain": [
       "        bed       cat       dog      face   my   on  sat  the\n",
       "0  0.000000  0.115525  0.000000  0.115525  0.0  0.0  0.0  0.0\n",
       "1  0.115525  0.000000  0.115525  0.000000  0.0  0.0  0.0  0.0"
      ]
     },
     "execution_count": 45,
     "metadata": {},
     "output_type": "execute_result"
    }
   ],
   "source": [
    "def computeTF(wordDict,bow): \n",
    "    tfDict = {} \n",
    "    bowCount = len(bow) \n",
    "    for word,count in wordDict.iteritems(): \n",
    "        tfDict[word] = count / float(bowCount) \n",
    "    return tfDict \n",
    "\n",
    "tfBowA = computeTF(wordDictA, bowA) \n",
    "tfBowB = computeTF(wordDictB, bowB) \n",
    "\n",
    "def computeIDF(docList): \n",
    "    import math \n",
    "    idfDict = {} \n",
    "    N = len(docList) \n",
    "    \n",
    "    idfDict = dict.fromkeys(docList[0].keys(),0) \n",
    "    for doc in docList: \n",
    "        for word, val in doc.iteritems(): \n",
    "            if val > 0: \n",
    "                idfDict[word] += 1  \n",
    "    \n",
    "    for word, val in idfDict.iteritems(): \n",
    "        idfDict[word] = math.log(N/float(val)) \n",
    "    return idfDict \n",
    "    \n",
    "def computeTFIDF(tfBow, idfs): \n",
    "    tfidf = {} \n",
    "    for word, val in tfBow.iteritems(): \n",
    "        tfidf[word] = val * idfs[word] \n",
    "    return tfidf \n",
    "\n",
    "print tfBowA, tfBowB \n",
    "idfs = computeIDF([wordDictA, wordDictB]) \n",
    "\n",
    "tfidfBowA = computeTFIDF(tfBowA, idfs) \n",
    "tfidfBowB = computeTFIDF(tfBowB, idfs) \n",
    "\n",
    "DataFrame([tfidfBowA,tfidfBowB])"
   ]
  },
  {
   "cell_type": "code",
   "execution_count": null,
   "metadata": {
    "collapsed": true
   },
   "outputs": [],
   "source": []
  }
 ],
 "metadata": {
  "kernelspec": {
   "display_name": "Python 2",
   "language": "python",
   "name": "python2"
  },
  "language_info": {
   "codemirror_mode": {
    "name": "ipython",
    "version": 2
   },
   "file_extension": ".py",
   "mimetype": "text/x-python",
   "name": "python",
   "nbconvert_exporter": "python",
   "pygments_lexer": "ipython2",
   "version": "2.7.11"
  }
 },
 "nbformat": 4,
 "nbformat_minor": 0
}
